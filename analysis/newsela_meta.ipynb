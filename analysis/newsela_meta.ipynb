{
 "cells": [
  {
   "cell_type": "code",
   "execution_count": 1,
   "id": "8b694217",
   "metadata": {},
   "outputs": [],
   "source": [
    "import pandas as pd\n",
    "import matplotlib.pyplot as plt\n",
    "import seaborn as sns"
   ]
  },
  {
   "cell_type": "code",
   "execution_count": 2,
   "id": "c0e97ba5",
   "metadata": {},
   "outputs": [
    {
     "data": {
      "text/html": [
       "<div>\n",
       "<style scoped>\n",
       "    .dataframe tbody tr th:only-of-type {\n",
       "        vertical-align: middle;\n",
       "    }\n",
       "\n",
       "    .dataframe tbody tr th {\n",
       "        vertical-align: top;\n",
       "    }\n",
       "\n",
       "    .dataframe thead th {\n",
       "        text-align: right;\n",
       "    }\n",
       "</style>\n",
       "<table border=\"1\" class=\"dataframe\">\n",
       "  <thead>\n",
       "    <tr style=\"text-align: right;\">\n",
       "      <th></th>\n",
       "      <th>slug</th>\n",
       "      <th>language</th>\n",
       "      <th>title</th>\n",
       "      <th>grade_level</th>\n",
       "      <th>version</th>\n",
       "      <th>filename</th>\n",
       "      <th>split</th>\n",
       "      <th>simp_level</th>\n",
       "    </tr>\n",
       "  </thead>\n",
       "  <tbody>\n",
       "    <tr>\n",
       "      <th>0</th>\n",
       "      <td>10dollarbill-woman</td>\n",
       "      <td>en</td>\n",
       "      <td>Tubman, Perkins or Roosevelt? Woman on $10 bil...</td>\n",
       "      <td>12.0</td>\n",
       "      <td>0</td>\n",
       "      <td>10dollarbill-woman.en.0.txt</td>\n",
       "      <td>train</td>\n",
       "      <td>0</td>\n",
       "    </tr>\n",
       "    <tr>\n",
       "      <th>1</th>\n",
       "      <td>10dollarbill-woman</td>\n",
       "      <td>en</td>\n",
       "      <td>Americans weigh in to choose the woman who wil...</td>\n",
       "      <td>8.0</td>\n",
       "      <td>1</td>\n",
       "      <td>10dollarbill-woman.en.1.txt</td>\n",
       "      <td>train</td>\n",
       "      <td>1</td>\n",
       "    </tr>\n",
       "    <tr>\n",
       "      <th>2</th>\n",
       "      <td>10dollarbill-woman</td>\n",
       "      <td>en</td>\n",
       "      <td>The $10 question: Who will be the new face on ...</td>\n",
       "      <td>6.0</td>\n",
       "      <td>2</td>\n",
       "      <td>10dollarbill-woman.en.2.txt</td>\n",
       "      <td>train</td>\n",
       "      <td>2</td>\n",
       "    </tr>\n",
       "    <tr>\n",
       "      <th>3</th>\n",
       "      <td>10dollarbill-woman</td>\n",
       "      <td>en</td>\n",
       "      <td>New $10 bill will have a theme and a woman's p...</td>\n",
       "      <td>5.0</td>\n",
       "      <td>3</td>\n",
       "      <td>10dollarbill-woman.en.3.txt</td>\n",
       "      <td>train</td>\n",
       "      <td>3</td>\n",
       "    </tr>\n",
       "    <tr>\n",
       "      <th>4</th>\n",
       "      <td>10dollarbill-woman</td>\n",
       "      <td>en</td>\n",
       "      <td>We will soon have an American woman's face on ...</td>\n",
       "      <td>3.0</td>\n",
       "      <td>4</td>\n",
       "      <td>10dollarbill-woman.en.4.txt</td>\n",
       "      <td>train</td>\n",
       "      <td>4</td>\n",
       "    </tr>\n",
       "    <tr>\n",
       "      <th>...</th>\n",
       "      <td>...</td>\n",
       "      <td>...</td>\n",
       "      <td>...</td>\n",
       "      <td>...</td>\n",
       "      <td>...</td>\n",
       "      <td>...</td>\n",
       "      <td>...</td>\n",
       "      <td>...</td>\n",
       "    </tr>\n",
       "    <tr>\n",
       "      <th>9560</th>\n",
       "      <td>zuckerberg-internet</td>\n",
       "      <td>en</td>\n",
       "      <td>Facebook CEO steps into public issues with glo...</td>\n",
       "      <td>12.0</td>\n",
       "      <td>0</td>\n",
       "      <td>zuckerberg-internet.en.0.txt</td>\n",
       "      <td>train</td>\n",
       "      <td>0</td>\n",
       "    </tr>\n",
       "    <tr>\n",
       "      <th>9561</th>\n",
       "      <td>zuckerberg-internet</td>\n",
       "      <td>en</td>\n",
       "      <td>Post this to your page: Facebook CEO wants to ...</td>\n",
       "      <td>9.0</td>\n",
       "      <td>1</td>\n",
       "      <td>zuckerberg-internet.en.1.txt</td>\n",
       "      <td>train</td>\n",
       "      <td>1</td>\n",
       "    </tr>\n",
       "    <tr>\n",
       "      <th>9562</th>\n",
       "      <td>zuckerberg-internet</td>\n",
       "      <td>en</td>\n",
       "      <td>Facebook CEO hits \"share\" to help bring the 'N...</td>\n",
       "      <td>7.0</td>\n",
       "      <td>2</td>\n",
       "      <td>zuckerberg-internet.en.2.txt</td>\n",
       "      <td>train</td>\n",
       "      <td>2</td>\n",
       "    </tr>\n",
       "    <tr>\n",
       "      <th>9563</th>\n",
       "      <td>zuckerberg-internet</td>\n",
       "      <td>en</td>\n",
       "      <td>Zuckerberg hopes people hit \"like\" on his glob...</td>\n",
       "      <td>5.0</td>\n",
       "      <td>3</td>\n",
       "      <td>zuckerberg-internet.en.3.txt</td>\n",
       "      <td>train</td>\n",
       "      <td>3</td>\n",
       "    </tr>\n",
       "    <tr>\n",
       "      <th>9564</th>\n",
       "      <td>zuckerberg-internet</td>\n",
       "      <td>en</td>\n",
       "      <td>Facebook CEO wants worldwide Web to live up to...</td>\n",
       "      <td>4.0</td>\n",
       "      <td>4</td>\n",
       "      <td>zuckerberg-internet.en.4.txt</td>\n",
       "      <td>train</td>\n",
       "      <td>4</td>\n",
       "    </tr>\n",
       "  </tbody>\n",
       "</table>\n",
       "<p>9565 rows × 8 columns</p>\n",
       "</div>"
      ],
      "text/plain": [
       "                     slug language  \\\n",
       "0      10dollarbill-woman       en   \n",
       "1      10dollarbill-woman       en   \n",
       "2      10dollarbill-woman       en   \n",
       "3      10dollarbill-woman       en   \n",
       "4      10dollarbill-woman       en   \n",
       "...                   ...      ...   \n",
       "9560  zuckerberg-internet       en   \n",
       "9561  zuckerberg-internet       en   \n",
       "9562  zuckerberg-internet       en   \n",
       "9563  zuckerberg-internet       en   \n",
       "9564  zuckerberg-internet       en   \n",
       "\n",
       "                                                  title  grade_level  version  \\\n",
       "0     Tubman, Perkins or Roosevelt? Woman on $10 bil...         12.0        0   \n",
       "1     Americans weigh in to choose the woman who wil...          8.0        1   \n",
       "2     The $10 question: Who will be the new face on ...          6.0        2   \n",
       "3     New $10 bill will have a theme and a woman's p...          5.0        3   \n",
       "4     We will soon have an American woman's face on ...          3.0        4   \n",
       "...                                                 ...          ...      ...   \n",
       "9560  Facebook CEO steps into public issues with glo...         12.0        0   \n",
       "9561  Post this to your page: Facebook CEO wants to ...          9.0        1   \n",
       "9562  Facebook CEO hits \"share\" to help bring the 'N...          7.0        2   \n",
       "9563  Zuckerberg hopes people hit \"like\" on his glob...          5.0        3   \n",
       "9564  Facebook CEO wants worldwide Web to live up to...          4.0        4   \n",
       "\n",
       "                          filename  split simp_level  \n",
       "0      10dollarbill-woman.en.0.txt  train          0  \n",
       "1      10dollarbill-woman.en.1.txt  train          1  \n",
       "2      10dollarbill-woman.en.2.txt  train          2  \n",
       "3      10dollarbill-woman.en.3.txt  train          3  \n",
       "4      10dollarbill-woman.en.4.txt  train          4  \n",
       "...                            ...    ...        ...  \n",
       "9560  zuckerberg-internet.en.0.txt  train          0  \n",
       "9561  zuckerberg-internet.en.1.txt  train          1  \n",
       "9562  zuckerberg-internet.en.2.txt  train          2  \n",
       "9563  zuckerberg-internet.en.3.txt  train          3  \n",
       "9564  zuckerberg-internet.en.4.txt  train          4  \n",
       "\n",
       "[9565 rows x 8 columns]"
      ]
     },
     "execution_count": 2,
     "metadata": {},
     "output_type": "execute_result"
    }
   ],
   "source": [
    "file = '/srv/scratch6/kew/ats/data/en/newsela_article_corpus_2016-01-29/articles_metadata_en_splits.csv'\n",
    "df = pd.read_csv(file, header=0)\n",
    "df['simp_level'] = df['filename'].apply(lambda x: x.split('.')[-2])\n",
    "df"
   ]
  },
  {
   "cell_type": "code",
   "execution_count": 3,
   "id": "082125fc",
   "metadata": {},
   "outputs": [],
   "source": [
    "# df['version'] == df['simp_level']"
   ]
  },
  {
   "cell_type": "code",
   "execution_count": 4,
   "id": "1ab18ca5",
   "metadata": {},
   "outputs": [
    {
     "data": {
      "text/plain": [
       "simp_level\n",
       "0    [12.0, 9.0, 8.0, 10.0, 6.0, 11.0]\n",
       "1      [8.0, 9.0, 7.0, 6.0, 10.0, 5.0]\n",
       "2            [6.0, 7.0, 8.0, 5.0, 4.0]\n",
       "3            [5.0, 4.0, 6.0, 3.0, 7.0]\n",
       "4                 [3.0, 2.0, 4.0, 5.0]\n",
       "5                           [2.0, 3.0]\n",
       "Name: grade_level, dtype: object"
      ]
     },
     "execution_count": 4,
     "metadata": {},
     "output_type": "execute_result"
    }
   ],
   "source": [
    "df.groupby('simp_level')['grade_level'].unique()"
   ]
  },
  {
   "cell_type": "code",
   "execution_count": 7,
   "id": "f9bb07e7",
   "metadata": {},
   "outputs": [
    {
     "data": {
      "text/plain": [
       "12.0    1853\n",
       "4.0     1569\n",
       "5.0     1342\n",
       "7.0     1210\n",
       "6.0     1058\n",
       "8.0     1037\n",
       "9.0      750\n",
       "3.0      500\n",
       "2.0      224\n",
       "10.0      20\n",
       "11.0       2\n",
       "Name: grade_level, dtype: int64"
      ]
     },
     "execution_count": 7,
     "metadata": {},
     "output_type": "execute_result"
    }
   ],
   "source": [
    "df['grade_level'].value_counts()"
   ]
  },
  {
   "cell_type": "code",
   "execution_count": 6,
   "id": "15a8cbd8",
   "metadata": {},
   "outputs": [
    {
     "data": {
      "text/plain": [
       "<AxesSubplot:xlabel='simp_level', ylabel='count'>"
      ]
     },
     "execution_count": 6,
     "metadata": {},
     "output_type": "execute_result"
    },
    {
     "data": {
      "image/png": "[encoded data removed]",
      "text/plain": [
       "<Figure size 432x288 with 1 Axes>"
      ]
     },
     "metadata": {
      "needs_background": "light"
     },
     "output_type": "display_data"
    }
   ],
   "source": [
    "sns.countplot(data=df, x=\"simp_level\", hue=\"grade_level\", dodge=True, alpha=0.6)"
   ]
  },
  {
   "cell_type": "code",
   "execution_count": 138,
   "id": "73860f36",
   "metadata": {},
   "outputs": [
    {
     "data": {
      "text/html": [
       "<div>\n",
       "<style scoped>\n",
       "    .dataframe tbody tr th:only-of-type {\n",
       "        vertical-align: middle;\n",
       "    }\n",
       "\n",
       "    .dataframe tbody tr th {\n",
       "        vertical-align: top;\n",
       "    }\n",
       "\n",
       "    .dataframe thead th {\n",
       "        text-align: right;\n",
       "    }\n",
       "</style>\n",
       "<table border=\"1\" class=\"dataframe\">\n",
       "  <thead>\n",
       "    <tr style=\"text-align: right;\">\n",
       "      <th></th>\n",
       "      <th>grade_level</th>\n",
       "      <th>counts</th>\n",
       "    </tr>\n",
       "    <tr>\n",
       "      <th>simp_level</th>\n",
       "      <th></th>\n",
       "      <th></th>\n",
       "    </tr>\n",
       "  </thead>\n",
       "  <tbody>\n",
       "    <tr>\n",
       "      <th>0</th>\n",
       "      <td>12</td>\n",
       "      <td>1853</td>\n",
       "    </tr>\n",
       "    <tr>\n",
       "      <th>0</th>\n",
       "      <td>9</td>\n",
       "      <td>25</td>\n",
       "    </tr>\n",
       "    <tr>\n",
       "      <th>0</th>\n",
       "      <td>10</td>\n",
       "      <td>16</td>\n",
       "    </tr>\n",
       "    <tr>\n",
       "      <th>0</th>\n",
       "      <td>8</td>\n",
       "      <td>14</td>\n",
       "    </tr>\n",
       "    <tr>\n",
       "      <th>0</th>\n",
       "      <td>11</td>\n",
       "      <td>2</td>\n",
       "    </tr>\n",
       "    <tr>\n",
       "      <th>0</th>\n",
       "      <td>6</td>\n",
       "      <td>1</td>\n",
       "    </tr>\n",
       "    <tr>\n",
       "      <th>1</th>\n",
       "      <td>8</td>\n",
       "      <td>980</td>\n",
       "    </tr>\n",
       "    <tr>\n",
       "      <th>1</th>\n",
       "      <td>9</td>\n",
       "      <td>725</td>\n",
       "    </tr>\n",
       "    <tr>\n",
       "      <th>1</th>\n",
       "      <td>7</td>\n",
       "      <td>158</td>\n",
       "    </tr>\n",
       "    <tr>\n",
       "      <th>1</th>\n",
       "      <td>6</td>\n",
       "      <td>39</td>\n",
       "    </tr>\n",
       "    <tr>\n",
       "      <th>1</th>\n",
       "      <td>5</td>\n",
       "      <td>4</td>\n",
       "    </tr>\n",
       "    <tr>\n",
       "      <th>1</th>\n",
       "      <td>10</td>\n",
       "      <td>4</td>\n",
       "    </tr>\n",
       "    <tr>\n",
       "      <th>2</th>\n",
       "      <td>7</td>\n",
       "      <td>1050</td>\n",
       "    </tr>\n",
       "    <tr>\n",
       "      <th>2</th>\n",
       "      <td>6</td>\n",
       "      <td>726</td>\n",
       "    </tr>\n",
       "    <tr>\n",
       "      <th>2</th>\n",
       "      <td>5</td>\n",
       "      <td>86</td>\n",
       "    </tr>\n",
       "    <tr>\n",
       "      <th>2</th>\n",
       "      <td>8</td>\n",
       "      <td>43</td>\n",
       "    </tr>\n",
       "    <tr>\n",
       "      <th>2</th>\n",
       "      <td>4</td>\n",
       "      <td>5</td>\n",
       "    </tr>\n",
       "    <tr>\n",
       "      <th>3</th>\n",
       "      <td>5</td>\n",
       "      <td>1224</td>\n",
       "    </tr>\n",
       "    <tr>\n",
       "      <th>3</th>\n",
       "      <td>4</td>\n",
       "      <td>386</td>\n",
       "    </tr>\n",
       "    <tr>\n",
       "      <th>3</th>\n",
       "      <td>6</td>\n",
       "      <td>292</td>\n",
       "    </tr>\n",
       "    <tr>\n",
       "      <th>3</th>\n",
       "      <td>3</td>\n",
       "      <td>6</td>\n",
       "    </tr>\n",
       "    <tr>\n",
       "      <th>3</th>\n",
       "      <td>7</td>\n",
       "      <td>2</td>\n",
       "    </tr>\n",
       "    <tr>\n",
       "      <th>4</th>\n",
       "      <td>4</td>\n",
       "      <td>1178</td>\n",
       "    </tr>\n",
       "    <tr>\n",
       "      <th>4</th>\n",
       "      <td>3</td>\n",
       "      <td>485</td>\n",
       "    </tr>\n",
       "    <tr>\n",
       "      <th>4</th>\n",
       "      <td>2</td>\n",
       "      <td>191</td>\n",
       "    </tr>\n",
       "    <tr>\n",
       "      <th>4</th>\n",
       "      <td>5</td>\n",
       "      <td>28</td>\n",
       "    </tr>\n",
       "    <tr>\n",
       "      <th>5</th>\n",
       "      <td>2</td>\n",
       "      <td>33</td>\n",
       "    </tr>\n",
       "    <tr>\n",
       "      <th>5</th>\n",
       "      <td>3</td>\n",
       "      <td>9</td>\n",
       "    </tr>\n",
       "  </tbody>\n",
       "</table>\n",
       "</div>"
      ],
      "text/plain": [
       "            grade_level  counts\n",
       "simp_level                     \n",
       "0                    12    1853\n",
       "0                     9      25\n",
       "0                    10      16\n",
       "0                     8      14\n",
       "0                    11       2\n",
       "0                     6       1\n",
       "1                     8     980\n",
       "1                     9     725\n",
       "1                     7     158\n",
       "1                     6      39\n",
       "1                     5       4\n",
       "1                    10       4\n",
       "2                     7    1050\n",
       "2                     6     726\n",
       "2                     5      86\n",
       "2                     8      43\n",
       "2                     4       5\n",
       "3                     5    1224\n",
       "3                     4     386\n",
       "3                     6     292\n",
       "3                     3       6\n",
       "3                     7       2\n",
       "4                     4    1178\n",
       "4                     3     485\n",
       "4                     2     191\n",
       "4                     5      28\n",
       "5                     2      33\n",
       "5                     3       9"
      ]
     },
     "execution_count": 138,
     "metadata": {},
     "output_type": "execute_result"
    }
   ],
   "source": [
    "from numpy import dtype\n",
    "\n",
    "\n",
    "df2 = df.groupby('simp_level')['grade_level'].value_counts(normalize=False).rename('counts').reset_index(name='counts')\n",
    "df2.simp_level = df2.simp_level.astype('int8')\n",
    "df2.grade_level = df2.grade_level.astype('int8')\n",
    "df2 = df2.set_index('simp_level')\n",
    "df2"
   ]
  },
  {
   "cell_type": "code",
   "execution_count": 144,
   "id": "88db1e63",
   "metadata": {},
   "outputs": [
    {
     "name": "stdout",
     "output_type": "stream",
     "text": [
      "[12, 9, 10, 8, 11, 6, 7, 5, 4, 3, 2]\n",
      "0 X: [12  9 10  8 11  6] Y: [1853   25   16   14    2    1]\n",
      "1 X: [ 8  9  7  6  5 10] Y: [980 725 158  39   4   4]\n",
      "2 X: [7 6 5 8 4] Y: [1050  726   86   43    5]\n",
      "3 X: [5 4 6 3 7] Y: [1224  386  292    6    2]\n",
      "4 X: [4 3 2 5] Y: [1178  485  191   28]\n"
     ]
    },
    {
     "data": {
      "image/png": "[encoded data removed]",
      "text/plain": [
       "<Figure size 504x360 with 1 Axes>"
      ]
     },
     "metadata": {
      "needs_background": "light"
     },
     "output_type": "display_data"
    }
   ],
   "source": [
    "fig, axes = plt.subplots(1, 1, figsize=(7, 5))\n",
    "# df_level_grade.plot(kind='bar')\n",
    "\n",
    "x_vals = list(df2['grade_level'].unique())\n",
    "print(x_vals)\n",
    "# for simp_l in df_level_grade.index.unique():\n",
    "for simp_l in range(5):\n",
    "    dfs = df2.loc[simp_l]\n",
    "    x = dfs['grade_level'].values\n",
    "    y = dfs['counts'].values\n",
    "    print(simp_l, 'X:', x, 'Y:', y)\n",
    "    axes.bar(x = x, height = y, alpha=0.5, label=f'Simp-{simp_l}')\n",
    "    \n",
    "axes.set_xticks(x_vals)\n",
    "axes.legend(frameon=False)\n",
    "axes.set_xlabel('Graded Reading Levels in Newsela')\n",
    "axes.set_ylabel('Number of Articles per Reading Level')\n",
    "# fig.suptitle('Distribution of Graded Reading Levels Across Ta')\n",
    "\n",
    "plt.savefig('plots/reading_level_vs_simp_level.png', dpi=300)\n",
    "plt.savefig('plots/reading_level_vs_simp_level.pdf', dpi=300)"
   ]
  },
  {
   "cell_type": "code",
   "execution_count": 10,
   "id": "f2d4ad6f",
   "metadata": {},
   "outputs": [
    {
     "data": {
      "text/plain": [
       "split\n",
       "test     [airstrikes-iraq, alienplanet-swim, asteroid-c...\n",
       "train    [10dollarbill-woman, 17century-selfies, 20doll...\n",
       "valid    [asian-modelminority, emergencyresponse-robots...\n",
       "Name: slug, dtype: object"
      ]
     },
     "execution_count": 10,
     "metadata": {},
     "output_type": "execute_result"
    }
   ],
   "source": [
    "df.groupby(['split'])['slug'].unique()"
   ]
  },
  {
   "cell_type": "code",
   "execution_count": 13,
   "id": "9176bfc6",
   "metadata": {},
   "outputs": [
    {
     "data": {
      "text/plain": [
       "train    9490\n",
       "test       50\n",
       "valid      25\n",
       "Name: split, dtype: int64"
      ]
     },
     "execution_count": 13,
     "metadata": {},
     "output_type": "execute_result"
    }
   ],
   "source": [
    "df['split'].value_counts()"
   ]
  },
  {
   "cell_type": "code",
   "execution_count": 14,
   "id": "fb7cbe06",
   "metadata": {},
   "outputs": [
    {
     "data": {
      "text/plain": [
       "1898.0"
      ]
     },
     "execution_count": 14,
     "metadata": {},
     "output_type": "execute_result"
    }
   ],
   "source": [
    "9490 / 5"
   ]
  },
  {
   "cell_type": "code",
   "execution_count": null,
   "id": "77cdba99",
   "metadata": {},
   "outputs": [],
   "source": []
  }
 ],
 "metadata": {
  "kernelspec": {
   "display_name": "Python 3.8.5 ('fudge_s3it')",
   "language": "python",
   "name": "python3"
  },
  "language_info": {
   "codemirror_mode": {
    "name": "ipython",
    "version": 3
   },
   "file_extension": ".py",
   "mimetype": "text/x-python",
   "name": "python",
   "nbconvert_exporter": "python",
   "pygments_lexer": "ipython3",
   "version": "3.8.5"
  },
  "vscode": {
   "interpreter": {
    "hash": "cc988720e719b857a54ba0409fcb6d7640893572e23091ade165ab39b8b0c1f0"
   }
  }
 },
 "nbformat": 4,
 "nbformat_minor": 5
}
