{
 "cells": [
  {
   "cell_type": "code",
   "execution_count": 9,
   "id": "8d612c9d",
   "metadata": {},
   "outputs": [],
   "source": [
    "import matplotlib.pyplot as plt\n",
    "from transformers import AutoTokenizer\n",
    "from pathlib import Path\n",
    "from tqdm.notebook import tqdm\n",
    "import json\n",
    "import pandas as pd"
   ]
  },
  {
   "cell_type": "code",
   "execution_count": 2,
   "id": "d8ca4e36",
   "metadata": {},
   "outputs": [],
   "source": [
    "model = 'facebook/bart-large'\n",
    "tokenizer = AutoTokenizer.from_pretrained(model)"
   ]
  },
  {
   "cell_type": "code",
   "execution_count": 4,
   "id": "7b168625",
   "metadata": {},
   "outputs": [
    {
     "data": {
      "text/plain": [
       "8"
      ]
     },
     "execution_count": 4,
     "metadata": {},
     "output_type": "execute_result"
    }
   ],
   "source": [
    "def get_token_count(sent):\n",
    "    return len(tokenizer.encode(sent))\n",
    "\n",
    "get_token_count(\"This is a test sentence.\")"
   ]
  },
  {
   "cell_type": "code",
   "execution_count": 10,
   "id": "0d2e38b5",
   "metadata": {},
   "outputs": [
    {
     "data": {
      "application/vnd.jupyter.widget-view+json": {
       "model_id": "7e31f357b6754640ac89a037a7b584a6",
       "version_major": 2,
       "version_minor": 0
      },
      "text/plain": [
       "0it [00:00, ?it/s]"
      ]
     },
     "metadata": {},
     "output_type": "display_data"
    },
    {
     "data": {
      "application/vnd.jupyter.widget-view+json": {
       "model_id": "20bf7a925e6c489a839f2ad8938ec42a",
       "version_major": 2,
       "version_minor": 0
      },
      "text/plain": [
       "0it [00:00, ?it/s]"
      ]
     },
     "metadata": {},
     "output_type": "display_data"
    },
    {
     "data": {
      "application/vnd.jupyter.widget-view+json": {
       "model_id": "8976d678c8f943c996b84a3d289751c2",
       "version_major": 2,
       "version_minor": 0
      },
      "text/plain": [
       "0it [00:00, ?it/s]"
      ]
     },
     "metadata": {},
     "output_type": "display_data"
    }
   ],
   "source": [
    "data_path = Path('/srv/scratch6/kew/ats/supervised/data/')\n",
    "\n",
    "files = {\n",
    "    'test.json': None,\n",
    "    'dev.json': None,\n",
    "    'train.json': None,\n",
    "}\n",
    "\n",
    "stats = {}\n",
    "for file in files.keys():\n",
    "    src_counts = []\n",
    "    tgt_counts = []\n",
    "    with open(data_path / file, 'r', encoding='utf8') as f:\n",
    "        for line in tqdm(f):\n",
    "            d = json.loads(line.strip())\n",
    "            src_counts.append(get_token_count(d['complex']))\n",
    "            tgt_counts.append(get_token_count(d['simple']))\n",
    "\n",
    "    stats[file+'_src'] = src_counts\n",
    "    stats[file+'_tgt'] = tgt_counts\n",
    "\n",
    "# print(stats)"
   ]
  },
  {
   "cell_type": "code",
   "execution_count": 12,
   "id": "1c454e9b",
   "metadata": {},
   "outputs": [
    {
     "data": {
      "text/plain": [
       "array([[<AxesSubplot:title={'center':'test.json_src'}>,\n",
       "        <AxesSubplot:title={'center':'test.json_tgt'}>]], dtype=object)"
      ]
     },
     "execution_count": 12,
     "metadata": {},
     "output_type": "execute_result"
    },
    {
     "data": {
      "image/png": "[encoded data removed]",
      "text/plain": [
       "<Figure size 432x288 with 2 Axes>"
      ]
     },
     "metadata": {
      "needs_background": "light"
     },
     "output_type": "display_data"
    }
   ],
   "source": [
    "test_df = pd.DataFrame.from_dict({k: stats[k] for k in stats.keys() if k.startswith('test')})\n",
    "valid_df = pd.DataFrame.from_dict({k: stats[k] for k in stats.keys() if k.startswith('dev')})\n",
    "train_df = pd.DataFrame.from_dict({k: stats[k] for k in stats.keys() if k.startswith('train')})\n",
    "test_df.hist(sharey=True)"
   ]
  },
  {
   "cell_type": "code",
   "execution_count": 14,
   "id": "59a9e0ec",
   "metadata": {},
   "outputs": [
    {
     "data": {
      "text/plain": [
       "array([[<AxesSubplot:title={'center':'dev.json_src'}>,\n",
       "        <AxesSubplot:title={'center':'dev.json_tgt'}>]], dtype=object)"
      ]
     },
     "execution_count": 14,
     "metadata": {},
     "output_type": "execute_result"
    },
    {
     "data": {
      "image/png": "[encoded data removed]",
      "text/plain": [
       "<Figure size 432x288 with 2 Axes>"
      ]
     },
     "metadata": {
      "needs_background": "light"
     },
     "output_type": "display_data"
    }
   ],
   "source": [
    "valid_df.hist(sharey=True)"
   ]
  },
  {
   "cell_type": "code",
   "execution_count": 13,
   "id": "a97de228",
   "metadata": {},
   "outputs": [
    {
     "data": {
      "text/plain": [
       "array([[<AxesSubplot:title={'center':'train.json_src'}>,\n",
       "        <AxesSubplot:title={'center':'train.json_tgt'}>]], dtype=object)"
      ]
     },
     "execution_count": 13,
     "metadata": {},
     "output_type": "execute_result"
    },
    {
     "data": {
      "image/png": "[encoded data removed]",
      "text/plain": [
       "<Figure size 432x288 with 2 Axes>"
      ]
     },
     "metadata": {
      "needs_background": "light"
     },
     "output_type": "display_data"
    }
   ],
   "source": [
    "train_df.hist(sharey=True)"
   ]
  },
  {
   "cell_type": "code",
   "execution_count": 18,
   "id": "0800db64",
   "metadata": {},
   "outputs": [
    {
     "data": {
      "application/vnd.jupyter.widget-view+json": {
       "model_id": "7c34fb16723f497397e73d35c6500d2e",
       "version_major": 2,
       "version_minor": 0
      },
      "text/plain": [
       "0it [00:00, ?it/s]"
      ]
     },
     "metadata": {},
     "output_type": "display_data"
    },
    {
     "data": {
      "application/vnd.jupyter.widget-view+json": {
       "model_id": "fec63f1aa2774dcfbb76a8c37de563e9",
       "version_major": 2,
       "version_minor": 0
      },
      "text/plain": [
       "0it [00:00, ?it/s]"
      ]
     },
     "metadata": {},
     "output_type": "display_data"
    },
    {
     "data": {
      "application/vnd.jupyter.widget-view+json": {
       "model_id": "e3b1f48f6278436a93127e8385ad461d",
       "version_major": 2,
       "version_minor": 0
      },
      "text/plain": [
       "0it [00:00, ?it/s]"
      ]
     },
     "metadata": {},
     "output_type": "display_data"
    },
    {
     "data": {
      "application/vnd.jupyter.widget-view+json": {
       "model_id": "f0c051b2fd2d4ecf8eb5b17a9926bfcd",
       "version_major": 2,
       "version_minor": 0
      },
      "text/plain": [
       "0it [00:00, ?it/s]"
      ]
     },
     "metadata": {},
     "output_type": "display_data"
    },
    {
     "data": {
      "application/vnd.jupyter.widget-view+json": {
       "model_id": "d4c9b0441fd449c59781e45708fa81b1",
       "version_major": 2,
       "version_minor": 0
      },
      "text/plain": [
       "0it [00:00, ?it/s]"
      ]
     },
     "metadata": {},
     "output_type": "display_data"
    },
    {
     "data": {
      "application/vnd.jupyter.widget-view+json": {
       "model_id": "7a1693e0846440dd962ec8bc9fe40d31",
       "version_major": 2,
       "version_minor": 0
      },
      "text/plain": [
       "0it [00:00, ?it/s]"
      ]
     },
     "metadata": {},
     "output_type": "display_data"
    }
   ],
   "source": [
    "data_path = Path('/srv/scratch6/kew/ats/muss/resources/datasets/muss_mined_paraphrases/en_mined_paraphrases')\n",
    "\n",
    "files = {\n",
    "    'test.complex': None,\n",
    "    'test.simple': None,\n",
    "    'valid.complex': None,\n",
    "    'valid.simple': None,\n",
    "    'train.complex': None,\n",
    "    'train.simple': None,\n",
    "}\n",
    "\n",
    "for file in files.keys():\n",
    "    token_counts = []\n",
    "    with open(data_path / file, 'r', encoding='utf8') as f:\n",
    "        for line in tqdm(f):\n",
    "            token_counts.append(get_token_count(line.strip()))\n",
    "    files[file] = token_counts"
   ]
  },
  {
   "cell_type": "code",
   "execution_count": 23,
   "id": "b43db723",
   "metadata": {},
   "outputs": [],
   "source": [
    "test_df = pd.DataFrame.from_dict({k: files[k] for k in files.keys() if k.startswith('test')})\n",
    "valid_df = pd.DataFrame.from_dict({k: files[k] for k in files.keys() if k.startswith('valid')})\n",
    "train_df = pd.DataFrame.from_dict({k: files[k] for k in files.keys() if k.startswith('train')})"
   ]
  },
  {
   "cell_type": "code",
   "execution_count": 32,
   "id": "6876c3e3",
   "metadata": {},
   "outputs": [
    {
     "data": {
      "text/plain": [
       "array([[<AxesSubplot:title={'center':'test.complex'}>,\n",
       "        <AxesSubplot:title={'center':'test.simple'}>]], dtype=object)"
      ]
     },
     "execution_count": 32,
     "metadata": {},
     "output_type": "execute_result"
    },
    {
     "data": {
      "image/png": "[encoded data removed]",
      "text/plain": [
       "<Figure size 432x288 with 2 Axes>"
      ]
     },
     "metadata": {
      "needs_background": "light"
     },
     "output_type": "display_data"
    }
   ],
   "source": [
    "test_df.hist(sharey=True)"
   ]
  },
  {
   "cell_type": "code",
   "execution_count": 30,
   "id": "36f92bd2",
   "metadata": {},
   "outputs": [
    {
     "data": {
      "text/html": [
       "<div>\n",
       "<style scoped>\n",
       "    .dataframe tbody tr th:only-of-type {\n",
       "        vertical-align: middle;\n",
       "    }\n",
       "\n",
       "    .dataframe tbody tr th {\n",
       "        vertical-align: top;\n",
       "    }\n",
       "\n",
       "    .dataframe thead th {\n",
       "        text-align: right;\n",
       "    }\n",
       "</style>\n",
       "<table border=\"1\" class=\"dataframe\">\n",
       "  <thead>\n",
       "    <tr style=\"text-align: right;\">\n",
       "      <th></th>\n",
       "      <th>valid.complex</th>\n",
       "      <th>valid.simple</th>\n",
       "    </tr>\n",
       "  </thead>\n",
       "  <tbody>\n",
       "    <tr>\n",
       "      <th>count</th>\n",
       "      <td>10000.000000</td>\n",
       "      <td>10000.00000</td>\n",
       "    </tr>\n",
       "    <tr>\n",
       "      <th>mean</th>\n",
       "      <td>27.745000</td>\n",
       "      <td>27.62160</td>\n",
       "    </tr>\n",
       "    <tr>\n",
       "      <th>std</th>\n",
       "      <td>15.435206</td>\n",
       "      <td>15.45242</td>\n",
       "    </tr>\n",
       "    <tr>\n",
       "      <th>min</th>\n",
       "      <td>6.000000</td>\n",
       "      <td>6.00000</td>\n",
       "    </tr>\n",
       "    <tr>\n",
       "      <th>25%</th>\n",
       "      <td>14.000000</td>\n",
       "      <td>14.00000</td>\n",
       "    </tr>\n",
       "    <tr>\n",
       "      <th>50%</th>\n",
       "      <td>24.000000</td>\n",
       "      <td>24.00000</td>\n",
       "    </tr>\n",
       "    <tr>\n",
       "      <th>75%</th>\n",
       "      <td>39.000000</td>\n",
       "      <td>39.00000</td>\n",
       "    </tr>\n",
       "    <tr>\n",
       "      <th>max</th>\n",
       "      <td>75.000000</td>\n",
       "      <td>76.00000</td>\n",
       "    </tr>\n",
       "  </tbody>\n",
       "</table>\n",
       "</div>"
      ],
      "text/plain": [
       "       valid.complex  valid.simple\n",
       "count   10000.000000   10000.00000\n",
       "mean       27.745000      27.62160\n",
       "std        15.435206      15.45242\n",
       "min         6.000000       6.00000\n",
       "25%        14.000000      14.00000\n",
       "50%        24.000000      24.00000\n",
       "75%        39.000000      39.00000\n",
       "max        75.000000      76.00000"
      ]
     },
     "execution_count": 30,
     "metadata": {},
     "output_type": "execute_result"
    },
    {
     "data": {
      "image/png": "[encoded data removed]",
      "text/plain": [
       "<Figure size 432x288 with 2 Axes>"
      ]
     },
     "metadata": {
      "needs_background": "light"
     },
     "output_type": "display_data"
    }
   ],
   "source": [
    "valid_df.hist(sharey=True)\n",
    "valid_df.describe()"
   ]
  },
  {
   "cell_type": "code",
   "execution_count": 31,
   "id": "e5f28592",
   "metadata": {},
   "outputs": [
    {
     "data": {
      "text/plain": [
       "array([[<AxesSubplot:title={'center':'train.complex'}>,\n",
       "        <AxesSubplot:title={'center':'train.simple'}>]], dtype=object)"
      ]
     },
     "execution_count": 31,
     "metadata": {},
     "output_type": "execute_result"
    },
    {
     "data": {
      "image/png": "[encoded data removed]",
      "text/plain": [
       "<Figure size 432x288 with 2 Axes>"
      ]
     },
     "metadata": {
      "needs_background": "light"
     },
     "output_type": "display_data"
    }
   ],
   "source": [
    "train_df.hist(sharey=True)"
   ]
  },
  {
   "cell_type": "code",
   "execution_count": 27,
   "id": "631aebf7",
   "metadata": {},
   "outputs": [
    {
     "data": {
      "text/html": [
       "<div>\n",
       "<style scoped>\n",
       "    .dataframe tbody tr th:only-of-type {\n",
       "        vertical-align: middle;\n",
       "    }\n",
       "\n",
       "    .dataframe tbody tr th {\n",
       "        vertical-align: top;\n",
       "    }\n",
       "\n",
       "    .dataframe thead th {\n",
       "        text-align: right;\n",
       "    }\n",
       "</style>\n",
       "<table border=\"1\" class=\"dataframe\">\n",
       "  <thead>\n",
       "    <tr style=\"text-align: right;\">\n",
       "      <th></th>\n",
       "      <th>train.complex</th>\n",
       "      <th>train.simple</th>\n",
       "    </tr>\n",
       "  </thead>\n",
       "  <tbody>\n",
       "    <tr>\n",
       "      <th>count</th>\n",
       "      <td>1.194945e+06</td>\n",
       "      <td>1.194945e+06</td>\n",
       "    </tr>\n",
       "    <tr>\n",
       "      <th>mean</th>\n",
       "      <td>2.780312e+01</td>\n",
       "      <td>2.770819e+01</td>\n",
       "    </tr>\n",
       "    <tr>\n",
       "      <th>std</th>\n",
       "      <td>1.531925e+01</td>\n",
       "      <td>1.534766e+01</td>\n",
       "    </tr>\n",
       "    <tr>\n",
       "      <th>min</th>\n",
       "      <td>5.000000e+00</td>\n",
       "      <td>5.000000e+00</td>\n",
       "    </tr>\n",
       "    <tr>\n",
       "      <th>25%</th>\n",
       "      <td>1.400000e+01</td>\n",
       "      <td>1.400000e+01</td>\n",
       "    </tr>\n",
       "    <tr>\n",
       "      <th>50%</th>\n",
       "      <td>2.400000e+01</td>\n",
       "      <td>2.400000e+01</td>\n",
       "    </tr>\n",
       "    <tr>\n",
       "      <th>75%</th>\n",
       "      <td>3.900000e+01</td>\n",
       "      <td>3.900000e+01</td>\n",
       "    </tr>\n",
       "    <tr>\n",
       "      <th>max</th>\n",
       "      <td>8.200000e+01</td>\n",
       "      <td>8.100000e+01</td>\n",
       "    </tr>\n",
       "  </tbody>\n",
       "</table>\n",
       "</div>"
      ],
      "text/plain": [
       "       train.complex  train.simple\n",
       "count   1.194945e+06  1.194945e+06\n",
       "mean    2.780312e+01  2.770819e+01\n",
       "std     1.531925e+01  1.534766e+01\n",
       "min     5.000000e+00  5.000000e+00\n",
       "25%     1.400000e+01  1.400000e+01\n",
       "50%     2.400000e+01  2.400000e+01\n",
       "75%     3.900000e+01  3.900000e+01\n",
       "max     8.200000e+01  8.100000e+01"
      ]
     },
     "execution_count": 27,
     "metadata": {},
     "output_type": "execute_result"
    }
   ],
   "source": [
    "train_df.describe()"
   ]
  },
  {
   "cell_type": "code",
   "execution_count": 45,
   "id": "6716820e",
   "metadata": {},
   "outputs": [],
   "source": [
    "def plot_doc_lengths(data_path, level):\n",
    "    data = {}\n",
    "    for file in Path(data_path).glob(f'*.en.{level}.txt'):\n",
    "        data[str(file.stem)] = None\n",
    "        with open(file, 'r', encoding='utf8') as f:\n",
    "            data[str(file.stem)] = get_token_count(f.read())\n",
    "\n",
    "    df = pd.DataFrame.from_dict(data, orient='index')\n",
    "    df.hist(bins=25)"
   ]
  },
  {
   "cell_type": "code",
   "execution_count": 46,
   "id": "2f93b4b2",
   "metadata": {},
   "outputs": [
    {
     "data": {
      "image/png": "[encoded data removed]",
      "text/plain": [
       "<Figure size 432x288 with 1 Axes>"
      ]
     },
     "metadata": {
      "needs_background": "light"
     },
     "output_type": "display_data"
    }
   ],
   "source": [
    "plot_doc_lengths('/srv/scratch6/kew/ats/data/en/newsela_article_corpus_2016-01-29/articles', 0)"
   ]
  },
  {
   "cell_type": "code",
   "execution_count": 47,
   "id": "bf0a37d2",
   "metadata": {},
   "outputs": [
    {
     "data": {
      "image/png": "[encoded data removed]",
      "text/plain": [
       "<Figure size 432x288 with 1 Axes>"
      ]
     },
     "metadata": {
      "needs_background": "light"
     },
     "output_type": "display_data"
    }
   ],
   "source": [
    "plot_doc_lengths('/srv/scratch6/kew/ats/data/en/newsela_article_corpus_2016-01-29/articles', 4)"
   ]
  },
  {
   "cell_type": "code",
   "execution_count": null,
   "id": "1b460a04",
   "metadata": {},
   "outputs": [],
   "source": []
  }
 ],
 "metadata": {
  "kernelspec": {
   "display_name": "Python 3 (ipykernel)",
   "language": "python",
   "name": "python3"
  },
  "language_info": {
   "codemirror_mode": {
    "name": "ipython",
    "version": 3
   },
   "file_extension": ".py",
   "mimetype": "text/x-python",
   "name": "python",
   "nbconvert_exporter": "python",
   "pygments_lexer": "ipython3",
   "version": "3.8.5"
  }
 },
 "nbformat": 4,
 "nbformat_minor": 5
}
