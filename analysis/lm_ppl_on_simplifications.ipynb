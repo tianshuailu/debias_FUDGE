{
 "cells": [
  {
   "cell_type": "markdown",
   "id": "c89caa5b",
   "metadata": {},
   "source": [
    "# LM PPL for Simplification?"
   ]
  },
  {
   "cell_type": "code",
   "execution_count": 1,
   "id": "334becd7",
   "metadata": {},
   "outputs": [],
   "source": [
    "%matplotlib inline\n",
    "import matplotlib.pyplot as plt\n",
    "import seaborn as sns\n",
    "import pandas as pd\n",
    "\n",
    "import math\n",
    "import torch\n",
    "import os\n",
    "import numpy as np\n",
    "from tqdm.notebook import tqdm\n",
    "\n",
    "from transformers import GPT2TokenizerFast, GPT2LMHeadModel"
   ]
  },
  {
   "cell_type": "code",
   "execution_count": 2,
   "id": "1e472988",
   "metadata": {},
   "outputs": [
    {
     "name": "stdout",
     "output_type": "stream",
     "text": [
      "Model is loaded on cpu\n"
     ]
    }
   ],
   "source": [
    "# Load pre-trained model (weights)\n",
    "model = GPT2LMHeadModel.from_pretrained('distilgpt2')\n",
    "model.eval()\n",
    "print(f'Model is loaded on {model.device}')\n",
    "# Load pre-trained model tokenizer (vocabulary)\n",
    "tokenizer = GPT2TokenizerFast.from_pretrained('distilgpt2')"
   ]
  },
  {
   "cell_type": "code",
   "execution_count": 3,
   "id": "8bb81806",
   "metadata": {},
   "outputs": [],
   "source": [
    "def distilGPT2_perplexity_score(sentence):\n",
    "    sentence = sentence.strip()\n",
    "    if not sentence:\n",
    "        return np.nan # for empty string\n",
    "    else:\n",
    "        tokenize_input = tokenizer.tokenize(sentence)\n",
    "        tensor_input = torch.tensor(\n",
    "            [tokenizer.convert_tokens_to_ids(tokenize_input)])\n",
    "        loss, logits = model(tensor_input, labels=tensor_input)[:2]\n",
    "        return math.exp(loss)\n",
    "    \n",
    "def read_split_lines(filename, split_sep='<::::>'):\n",
    "    \"\"\"from easse/utils/helpers.py\"\"\"\n",
    "    with open(filename, encoding=\"utf-8\") as f:\n",
    "        split_instances = []\n",
    "        for line in f:\n",
    "            split_instances.append([split.strip() for split in line.split(split_sep)])\n",
    "\n",
    "    return split_instances"
   ]
  },
  {
   "cell_type": "code",
   "execution_count": 8,
   "id": "762bc42d",
   "metadata": {},
   "outputs": [
    {
     "name": "stdout",
     "output_type": "stream",
     "text": [
      "Asset Test\n"
     ]
    }
   ],
   "source": [
    "# human simplifications\n",
    "\n",
    "# filepath = '/srv/scratch6/kew/ats/data/en/aligned/turk_test.tsv'\n",
    "filepath = '/srv/scratch6/kew/ats/data/en/aligned/asset_test.tsv'\n",
    "test_set = filepath.split('/')[-1].split('.')[0].replace('_', ' ').title()\n",
    "print(test_set)\n",
    "sents = read_split_lines(filepath, split_sep='\\t')\n",
    "complex_sents = [i[0] for i in sents]\n",
    "simple_sents = [i[1:] for i in sents]\n",
    "simple_sents = list(map(list, [*zip(*simple_sents)]))\n",
    "\n",
    "assert len(complex_sents) == len(simple_sents[0])"
   ]
  },
  {
   "cell_type": "code",
   "execution_count": 9,
   "id": "536d939a",
   "metadata": {},
   "outputs": [
    {
     "data": {
      "application/vnd.jupyter.widget-view+json": {
       "model_id": "444ba49c63884cc487182f59d89498af",
       "version_major": 2,
       "version_minor": 0
      },
      "text/plain": [
       "  0%|          | 0/359 [00:00<?, ?it/s]"
      ]
     },
     "metadata": {},
     "output_type": "display_data"
    }
   ],
   "source": [
    "complex_ppls = [distilGPT2_perplexity_score('. '+s) for s in tqdm(complex_sents)]"
   ]
  },
  {
   "cell_type": "code",
   "execution_count": 10,
   "id": "3dd6a05a",
   "metadata": {},
   "outputs": [
    {
     "name": "stdout",
     "output_type": "stream",
     "text": [
      "Computing ppl for 10 sets of simplified sentences ...\n"
     ]
    },
    {
     "data": {
      "application/vnd.jupyter.widget-view+json": {
       "model_id": "2b07d87ebb324b6692ab10c57388ea58",
       "version_major": 2,
       "version_minor": 0
      },
      "text/plain": [
       "  0%|          | 0/359 [00:00<?, ?it/s]"
      ]
     },
     "metadata": {},
     "output_type": "display_data"
    },
    {
     "data": {
      "application/vnd.jupyter.widget-view+json": {
       "model_id": "1a9b81ba29d140bf86e75f722dd305bd",
       "version_major": 2,
       "version_minor": 0
      },
      "text/plain": [
       "  0%|          | 0/359 [00:00<?, ?it/s]"
      ]
     },
     "metadata": {},
     "output_type": "display_data"
    },
    {
     "data": {
      "application/vnd.jupyter.widget-view+json": {
       "model_id": "63684e5d44394149b297cf62eb9334fe",
       "version_major": 2,
       "version_minor": 0
      },
      "text/plain": [
       "  0%|          | 0/359 [00:00<?, ?it/s]"
      ]
     },
     "metadata": {},
     "output_type": "display_data"
    },
    {
     "data": {
      "application/vnd.jupyter.widget-view+json": {
       "model_id": "faa65c4cb56b437f98d60fb7d85f5e0d",
       "version_major": 2,
       "version_minor": 0
      },
      "text/plain": [
       "  0%|          | 0/359 [00:00<?, ?it/s]"
      ]
     },
     "metadata": {},
     "output_type": "display_data"
    },
    {
     "data": {
      "application/vnd.jupyter.widget-view+json": {
       "model_id": "cf3c111e3b2942e081fce717aef99c00",
       "version_major": 2,
       "version_minor": 0
      },
      "text/plain": [
       "  0%|          | 0/359 [00:00<?, ?it/s]"
      ]
     },
     "metadata": {},
     "output_type": "display_data"
    },
    {
     "data": {
      "application/vnd.jupyter.widget-view+json": {
       "model_id": "0958490bd1cc47c8876dccc127579f55",
       "version_major": 2,
       "version_minor": 0
      },
      "text/plain": [
       "  0%|          | 0/359 [00:00<?, ?it/s]"
      ]
     },
     "metadata": {},
     "output_type": "display_data"
    },
    {
     "data": {
      "application/vnd.jupyter.widget-view+json": {
       "model_id": "b6395cb06718427bb849e13167bba99f",
       "version_major": 2,
       "version_minor": 0
      },
      "text/plain": [
       "  0%|          | 0/359 [00:00<?, ?it/s]"
      ]
     },
     "metadata": {},
     "output_type": "display_data"
    },
    {
     "data": {
      "application/vnd.jupyter.widget-view+json": {
       "model_id": "2304a082f32e42ec97809d2ef1ee377b",
       "version_major": 2,
       "version_minor": 0
      },
      "text/plain": [
       "  0%|          | 0/359 [00:00<?, ?it/s]"
      ]
     },
     "metadata": {},
     "output_type": "display_data"
    },
    {
     "data": {
      "application/vnd.jupyter.widget-view+json": {
       "model_id": "840fe2f05f85491a8041c2c87ba1db16",
       "version_major": 2,
       "version_minor": 0
      },
      "text/plain": [
       "  0%|          | 0/359 [00:00<?, ?it/s]"
      ]
     },
     "metadata": {},
     "output_type": "display_data"
    },
    {
     "data": {
      "application/vnd.jupyter.widget-view+json": {
       "model_id": "9ebf597994284eabbcbd48a52c130cd7",
       "version_major": 2,
       "version_minor": 0
      },
      "text/plain": [
       "  0%|          | 0/359 [00:00<?, ?it/s]"
      ]
     },
     "metadata": {},
     "output_type": "display_data"
    }
   ],
   "source": [
    "print(f'Computing ppl for {len(simple_sents)} sets of simplified sentences ...')\n",
    "simple_ppls = []\n",
    "for sents in simple_sents:\n",
    "    simple_ppls.append([distilGPT2_perplexity_score('. '+s) for s in tqdm(sents)])"
   ]
  },
  {
   "cell_type": "code",
   "execution_count": 11,
   "id": "47d8ed0f",
   "metadata": {},
   "outputs": [
    {
     "name": "stdout",
     "output_type": "stream",
     "text": [
      "<class 'list'>\n",
      "359\n",
      "<class 'list'>\n",
      "10\n",
      "359\n"
     ]
    }
   ],
   "source": [
    "print(type(complex_ppls))\n",
    "print(len(complex_ppls))\n",
    "print(type(simple_ppls))\n",
    "print(len(simple_ppls))\n",
    "print(len(simple_ppls[0]))"
   ]
  },
  {
   "cell_type": "code",
   "execution_count": 12,
   "id": "149ed945",
   "metadata": {},
   "outputs": [
    {
     "name": "stdout",
     "output_type": "stream",
     "text": [
      "(11, 359)\n"
     ]
    }
   ],
   "source": [
    "ppls = np.concatenate([[complex_ppls], simple_ppls])\n",
    "print(ppls.shape)"
   ]
  },
  {
   "cell_type": "code",
   "execution_count": 13,
   "id": "e10108e8",
   "metadata": {},
   "outputs": [
    {
     "name": "stdout",
     "output_type": "stream",
     "text": [
      "[[ 70.89087884  21.04061606 117.5404211  ...  56.86862754  63.31177236\n",
      "  157.44073937]\n",
      " [ 66.39922513  65.71630579 227.79982293 ... 110.94069942  50.47243017\n",
      "  219.53913622]\n",
      " [ 53.4560543   25.34978992  98.43735132 ...  59.4276563   68.11250945\n",
      "  188.56024406]\n",
      " ...\n",
      " [ 63.39058553  28.36398457 123.92533662 ... 139.23536989 112.75516345\n",
      "   80.6782542 ]\n",
      " [ 54.5471724   37.63120419 214.98930928 ...  85.36479219  45.22913017\n",
      "   85.03810913]\n",
      " [ 40.79078825  23.30721435 126.82537086 ...  56.31226709  81.83020229\n",
      "  133.20306791]]\n",
      "(359,)\n"
     ]
    }
   ],
   "source": [
    "print(ppls)\n",
    "print(ppls[0].shape)"
   ]
  },
  {
   "cell_type": "code",
   "execution_count": 14,
   "id": "e2e2bdb8",
   "metadata": {},
   "outputs": [
    {
     "name": "stdout",
     "output_type": "stream",
     "text": [
      "['complex', 'simple_1', 'simple_2', 'simple_3', 'simple_4', 'simple_5', 'simple_6', 'simple_7', 'simple_8', 'simple_9', 'simple_10']\n"
     ]
    },
    {
     "data": {
      "text/html": [
       "<div>\n",
       "<style scoped>\n",
       "    .dataframe tbody tr th:only-of-type {\n",
       "        vertical-align: middle;\n",
       "    }\n",
       "\n",
       "    .dataframe tbody tr th {\n",
       "        vertical-align: top;\n",
       "    }\n",
       "\n",
       "    .dataframe thead th {\n",
       "        text-align: right;\n",
       "    }\n",
       "</style>\n",
       "<table border=\"1\" class=\"dataframe\">\n",
       "  <thead>\n",
       "    <tr style=\"text-align: right;\">\n",
       "      <th></th>\n",
       "      <th>complex</th>\n",
       "      <th>simple_1</th>\n",
       "      <th>simple_2</th>\n",
       "      <th>simple_3</th>\n",
       "      <th>simple_4</th>\n",
       "      <th>simple_5</th>\n",
       "      <th>simple_6</th>\n",
       "      <th>simple_7</th>\n",
       "      <th>simple_8</th>\n",
       "      <th>simple_9</th>\n",
       "      <th>simple_10</th>\n",
       "    </tr>\n",
       "  </thead>\n",
       "  <tbody>\n",
       "    <tr>\n",
       "      <th>0</th>\n",
       "      <td>70.890879</td>\n",
       "      <td>66.399225</td>\n",
       "      <td>53.456054</td>\n",
       "      <td>79.208655</td>\n",
       "      <td>58.947869</td>\n",
       "      <td>47.245793</td>\n",
       "      <td>47.042113</td>\n",
       "      <td>64.224607</td>\n",
       "      <td>63.390586</td>\n",
       "      <td>54.547172</td>\n",
       "      <td>40.790788</td>\n",
       "    </tr>\n",
       "    <tr>\n",
       "      <th>1</th>\n",
       "      <td>21.040616</td>\n",
       "      <td>65.716306</td>\n",
       "      <td>25.349790</td>\n",
       "      <td>54.682880</td>\n",
       "      <td>20.831591</td>\n",
       "      <td>21.959347</td>\n",
       "      <td>46.756367</td>\n",
       "      <td>22.318817</td>\n",
       "      <td>28.363985</td>\n",
       "      <td>37.631204</td>\n",
       "      <td>23.307214</td>\n",
       "    </tr>\n",
       "    <tr>\n",
       "      <th>2</th>\n",
       "      <td>117.540421</td>\n",
       "      <td>227.799823</td>\n",
       "      <td>98.437351</td>\n",
       "      <td>144.385731</td>\n",
       "      <td>98.957344</td>\n",
       "      <td>90.787495</td>\n",
       "      <td>166.183629</td>\n",
       "      <td>94.458317</td>\n",
       "      <td>123.925337</td>\n",
       "      <td>214.989309</td>\n",
       "      <td>126.825371</td>\n",
       "    </tr>\n",
       "    <tr>\n",
       "      <th>3</th>\n",
       "      <td>58.360285</td>\n",
       "      <td>115.894390</td>\n",
       "      <td>53.260701</td>\n",
       "      <td>108.595315</td>\n",
       "      <td>65.700796</td>\n",
       "      <td>49.509565</td>\n",
       "      <td>156.670274</td>\n",
       "      <td>50.579739</td>\n",
       "      <td>67.494728</td>\n",
       "      <td>52.924373</td>\n",
       "      <td>548.648992</td>\n",
       "    </tr>\n",
       "    <tr>\n",
       "      <th>4</th>\n",
       "      <td>64.186704</td>\n",
       "      <td>52.386125</td>\n",
       "      <td>61.741792</td>\n",
       "      <td>70.886924</td>\n",
       "      <td>118.470041</td>\n",
       "      <td>156.999775</td>\n",
       "      <td>68.763909</td>\n",
       "      <td>89.259901</td>\n",
       "      <td>78.731406</td>\n",
       "      <td>63.175523</td>\n",
       "      <td>73.679217</td>\n",
       "    </tr>\n",
       "    <tr>\n",
       "      <th>...</th>\n",
       "      <td>...</td>\n",
       "      <td>...</td>\n",
       "      <td>...</td>\n",
       "      <td>...</td>\n",
       "      <td>...</td>\n",
       "      <td>...</td>\n",
       "      <td>...</td>\n",
       "      <td>...</td>\n",
       "      <td>...</td>\n",
       "      <td>...</td>\n",
       "      <td>...</td>\n",
       "    </tr>\n",
       "    <tr>\n",
       "      <th>354</th>\n",
       "      <td>46.568696</td>\n",
       "      <td>113.008847</td>\n",
       "      <td>108.545253</td>\n",
       "      <td>95.077084</td>\n",
       "      <td>91.724829</td>\n",
       "      <td>81.236342</td>\n",
       "      <td>53.898814</td>\n",
       "      <td>81.715993</td>\n",
       "      <td>49.155642</td>\n",
       "      <td>53.792748</td>\n",
       "      <td>137.783090</td>\n",
       "    </tr>\n",
       "    <tr>\n",
       "      <th>355</th>\n",
       "      <td>436.152920</td>\n",
       "      <td>461.435459</td>\n",
       "      <td>320.043809</td>\n",
       "      <td>342.678915</td>\n",
       "      <td>588.530530</td>\n",
       "      <td>254.805169</td>\n",
       "      <td>149.895264</td>\n",
       "      <td>374.362397</td>\n",
       "      <td>407.539377</td>\n",
       "      <td>198.835452</td>\n",
       "      <td>274.625781</td>\n",
       "    </tr>\n",
       "    <tr>\n",
       "      <th>356</th>\n",
       "      <td>56.868628</td>\n",
       "      <td>110.940699</td>\n",
       "      <td>59.427656</td>\n",
       "      <td>145.914005</td>\n",
       "      <td>38.803925</td>\n",
       "      <td>46.191007</td>\n",
       "      <td>79.371382</td>\n",
       "      <td>57.487583</td>\n",
       "      <td>139.235370</td>\n",
       "      <td>85.364792</td>\n",
       "      <td>56.312267</td>\n",
       "    </tr>\n",
       "    <tr>\n",
       "      <th>357</th>\n",
       "      <td>63.311772</td>\n",
       "      <td>50.472430</td>\n",
       "      <td>68.112509</td>\n",
       "      <td>105.307453</td>\n",
       "      <td>76.208261</td>\n",
       "      <td>79.560199</td>\n",
       "      <td>60.413149</td>\n",
       "      <td>58.769146</td>\n",
       "      <td>112.755163</td>\n",
       "      <td>45.229130</td>\n",
       "      <td>81.830202</td>\n",
       "    </tr>\n",
       "    <tr>\n",
       "      <th>358</th>\n",
       "      <td>157.440739</td>\n",
       "      <td>219.539136</td>\n",
       "      <td>188.560244</td>\n",
       "      <td>264.152388</td>\n",
       "      <td>106.506623</td>\n",
       "      <td>116.476160</td>\n",
       "      <td>115.996727</td>\n",
       "      <td>129.537235</td>\n",
       "      <td>80.678254</td>\n",
       "      <td>85.038109</td>\n",
       "      <td>133.203068</td>\n",
       "    </tr>\n",
       "  </tbody>\n",
       "</table>\n",
       "<p>359 rows × 11 columns</p>\n",
       "</div>"
      ],
      "text/plain": [
       "        complex    simple_1    simple_2    simple_3    simple_4    simple_5  \\\n",
       "0     70.890879   66.399225   53.456054   79.208655   58.947869   47.245793   \n",
       "1     21.040616   65.716306   25.349790   54.682880   20.831591   21.959347   \n",
       "2    117.540421  227.799823   98.437351  144.385731   98.957344   90.787495   \n",
       "3     58.360285  115.894390   53.260701  108.595315   65.700796   49.509565   \n",
       "4     64.186704   52.386125   61.741792   70.886924  118.470041  156.999775   \n",
       "..          ...         ...         ...         ...         ...         ...   \n",
       "354   46.568696  113.008847  108.545253   95.077084   91.724829   81.236342   \n",
       "355  436.152920  461.435459  320.043809  342.678915  588.530530  254.805169   \n",
       "356   56.868628  110.940699   59.427656  145.914005   38.803925   46.191007   \n",
       "357   63.311772   50.472430   68.112509  105.307453   76.208261   79.560199   \n",
       "358  157.440739  219.539136  188.560244  264.152388  106.506623  116.476160   \n",
       "\n",
       "       simple_6    simple_7    simple_8    simple_9   simple_10  \n",
       "0     47.042113   64.224607   63.390586   54.547172   40.790788  \n",
       "1     46.756367   22.318817   28.363985   37.631204   23.307214  \n",
       "2    166.183629   94.458317  123.925337  214.989309  126.825371  \n",
       "3    156.670274   50.579739   67.494728   52.924373  548.648992  \n",
       "4     68.763909   89.259901   78.731406   63.175523   73.679217  \n",
       "..          ...         ...         ...         ...         ...  \n",
       "354   53.898814   81.715993   49.155642   53.792748  137.783090  \n",
       "355  149.895264  374.362397  407.539377  198.835452  274.625781  \n",
       "356   79.371382   57.487583  139.235370   85.364792   56.312267  \n",
       "357   60.413149   58.769146  112.755163   45.229130   81.830202  \n",
       "358  115.996727  129.537235   80.678254   85.038109  133.203068  \n",
       "\n",
       "[359 rows x 11 columns]"
      ]
     },
     "execution_count": 14,
     "metadata": {},
     "output_type": "execute_result"
    }
   ],
   "source": [
    "names = ['complex'] + ['simple_'+str(i+1) for i in range(len(simple_ppls))]\n",
    "print(names)\n",
    "df = pd.DataFrame(ppls.transpose(), columns=names)\n",
    "df"
   ]
  },
  {
   "cell_type": "code",
   "execution_count": 15,
   "id": "47766bad",
   "metadata": {},
   "outputs": [
    {
     "name": "stdout",
     "output_type": "stream",
     "text": [
      "<class 'pandas.core.frame.DataFrame'>\n",
      "RangeIndex: 359 entries, 0 to 358\n",
      "Data columns (total 11 columns):\n",
      " #   Column     Non-Null Count  Dtype  \n",
      "---  ------     --------------  -----  \n",
      " 0   complex    359 non-null    float64\n",
      " 1   simple_1   359 non-null    float64\n",
      " 2   simple_2   359 non-null    float64\n",
      " 3   simple_3   359 non-null    float64\n",
      " 4   simple_4   359 non-null    float64\n",
      " 5   simple_5   359 non-null    float64\n",
      " 6   simple_6   359 non-null    float64\n",
      " 7   simple_7   359 non-null    float64\n",
      " 8   simple_8   359 non-null    float64\n",
      " 9   simple_9   359 non-null    float64\n",
      " 10  simple_10  359 non-null    float64\n",
      "dtypes: float64(11)\n",
      "memory usage: 31.0 KB\n"
     ]
    }
   ],
   "source": [
    "# df.min()\n",
    "df.info()"
   ]
  },
  {
   "cell_type": "code",
   "execution_count": 21,
   "id": "7b8b8373",
   "metadata": {},
   "outputs": [
    {
     "name": "stderr",
     "output_type": "stream",
     "text": [
      "No artists with labels found to put in legend.  Note that artists whose label start with an underscore are ignored when legend() is called with no argument.\n"
     ]
    },
    {
     "data": {
      "text/plain": [
       "Text(0.5, 1.0, 'LM PPL on Asset Test Set')"
      ]
     },
     "execution_count": 21,
     "metadata": {},
     "output_type": "execute_result"
    },
    {
     "data": {
      "image/png": "[encoded data removed]",
      "text/plain": [
       "<Figure size 1152x720 with 1 Axes>"
      ]
     },
     "metadata": {
      "needs_background": "light"
     },
     "output_type": "display_data"
    }
   ],
   "source": [
    "sns.set_context('talk')\n",
    "\n",
    "fig, ax = plt.subplots(1,1,figsize=(16,10))\n",
    "ax = sns.boxplot(data=df)\n",
    "# ax.set_xlim(left=None, right=1000)\n",
    "# ax.set_ylim(bottom=0, top=1000)\n",
    "plt.legend()\n",
    "ax.set(yscale=\"log\")\n",
    "\n",
    "plt.title(f'LM PPL on {test_set} Set')\n"
   ]
  },
  {
   "cell_type": "code",
   "execution_count": null,
   "id": "130fb16d",
   "metadata": {},
   "outputs": [],
   "source": []
  }
 ],
 "metadata": {
  "kernelspec": {
   "display_name": "Python 3 (ipykernel)",
   "language": "python",
   "name": "python3"
  },
  "language_info": {
   "codemirror_mode": {
    "name": "ipython",
    "version": 3
   },
   "file_extension": ".py",
   "mimetype": "text/x-python",
   "name": "python",
   "nbconvert_exporter": "python",
   "pygments_lexer": "ipython3",
   "version": "3.8.5"
  }
 },
 "nbformat": 4,
 "nbformat_minor": 5
}
