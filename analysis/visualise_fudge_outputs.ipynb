{
 "cells": [
  {
   "cell_type": "code",
   "execution_count": 3,
   "id": "4f56ac54",
   "metadata": {},
   "outputs": [],
   "source": [
    "import json\n",
    "import pandas as pd\n",
    "import matplotlib.pyplot as plt\n",
    "import numpy as np\n",
    "import seaborn as sns\n"
   ]
  },
  {
   "cell_type": "code",
   "execution_count": 4,
   "id": "ed981ea5",
   "metadata": {},
   "outputs": [],
   "source": [
    "# analysis_file = '/srv/scratch6/kew/ats/fudge/analysis/analysis.json'\n",
    "analysis_file = '/srv/scratch6/kew/ats/fudge/analysis/empty_sentence.json'"
   ]
  },
  {
   "cell_type": "code",
   "execution_count": 5,
   "id": "5d585709",
   "metadata": {},
   "outputs": [],
   "source": [
    "data = []\n",
    "with open(analysis_file, 'r', encoding='utf8') as inf:\n",
    "    for line in inf:\n",
    "        data.append(json.loads(line.strip()))"
   ]
  },
  {
   "cell_type": "code",
   "execution_count": 6,
   "id": "c78a36c2",
   "metadata": {},
   "outputs": [
    {
     "data": {
      "text/plain": [
       "41"
      ]
     },
     "execution_count": 6,
     "metadata": {},
     "output_type": "execute_result"
    }
   ],
   "source": [
    "len(data)"
   ]
  },
  {
   "cell_type": "code",
   "execution_count": null,
   "id": "1b7df6e4",
   "metadata": {},
   "outputs": [],
   "source": []
  }
 ],
 "metadata": {
  "kernelspec": {
   "display_name": "Python 3 (ipykernel)",
   "language": "python",
   "name": "python3"
  },
  "language_info": {
   "codemirror_mode": {
    "name": "ipython",
    "version": 3
   },
   "file_extension": ".py",
   "mimetype": "text/x-python",
   "name": "python",
   "nbconvert_exporter": "python",
   "pygments_lexer": "ipython3",
   "version": "3.8.5"
  }
 },
 "nbformat": 4,
 "nbformat_minor": 5
}
