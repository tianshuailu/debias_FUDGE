{
 "cells": [
  {
   "cell_type": "code",
   "execution_count": 1,
   "id": "9860ff22",
   "metadata": {},
   "outputs": [],
   "source": [
    "# HACK: update sys.path for importing from parent directory\n",
    "import os, sys\n",
    "p = os.path.abspath('..')\n",
    "sys.path.insert(1, p)\n",
    "# print(sys.path)"
   ]
  },
  {
   "cell_type": "code",
   "execution_count": 2,
   "id": "007df669",
   "metadata": {},
   "outputs": [],
   "source": [
    "from types import SimpleNamespace\n",
    "import numpy as np\n",
    "import torch\n",
    "from transformers import AutoTokenizer\n",
    "\n",
    "from model import Model\n",
    "from data import Dataset, collate\n",
    "from util import pad_mask\n",
    "from sklearn.metrics import roc_curve, roc_auc_score\n",
    "from tqdm.notebook import tqdm"
   ]
  },
  {
   "cell_type": "code",
   "execution_count": 25,
   "id": "407b273e",
   "metadata": {},
   "outputs": [],
   "source": []
  },
  {
   "cell_type": "code",
   "execution_count": 7,
   "id": "95979488",
   "metadata": {},
   "outputs": [],
   "source": [
    "args = {\n",
    "        'data_dir': '/srv/scratch6/kew/ats/data/en/newsela_article_corpus_2016-01-29/article_sents/',\n",
    "        'model_path_or_name': '/srv/scratch6/kew/ats/fudge/generators/bart_large_paraNMT_filt_fr',\n",
    "        'save_dir': '/srv/scratch6/kew/ats/fudge/discriminators/newsela4_bart_glove_bkup',\n",
    "        'ckpt': '/srv/scratch6/kew/ats/fudge/discriminators/newsela4_bart_glove_bkup/model_best.pth.tar',\n",
    "#         'save_dir': '/srv/scratch6/kew/ats/fudge/discriminators/wiki100M_bart_glove',\n",
    "#         'ckpt': '/srv/scratch6/kew/ats/fudge/discriminators/wiki100M_bart_glove/model_best.pth.tar',\n",
    "        'device': 'cpu',\n",
    "        'task': 'simplify',\n",
    "        'evaluate': True,\n",
    "        'seed': 1,\n",
    "        'batch_size': 1,\n",
    "        }\n",
    "\n",
    "args = SimpleNamespace(**args)\n",
    "\n",
    "# print(args)\n",
    "# print(hasattr(args, 'dataset_info')) #.has_attribute(''))"
   ]
  },
  {
   "cell_type": "code",
   "execution_count": 8,
   "id": "7d986611",
   "metadata": {},
   "outputs": [
    {
     "name": "stdout",
     "output_type": "stream",
     "text": [
      "loading data\n"
     ]
    },
    {
     "ename": "RuntimeError",
     "evalue": "",
     "output_type": "error",
     "traceback": [
      "\u001b[0;31m---------------------------------------------------------------------------\u001b[0m",
      "\u001b[0;31mException\u001b[0m                                 Traceback (most recent call last)",
      "File \u001b[0;32m~/INSTALLS/fudge/data.py:149\u001b[0m, in \u001b[0;36mDataset.__init__\u001b[0;34m(self, args)\u001b[0m\n\u001b[1;32m    148\u001b[0m \u001b[38;5;28;01mtry\u001b[39;00m:\n\u001b[0;32m--> 149\u001b[0m     \u001b[38;5;28mself\u001b[39m\u001b[38;5;241m.\u001b[39mtokenizer \u001b[38;5;241m=\u001b[39m \u001b[43mAutoTokenizer\u001b[49m\u001b[38;5;241;43m.\u001b[39;49m\u001b[43mfrom_pretrained\u001b[49m\u001b[43m(\u001b[49m\u001b[43margs\u001b[49m\u001b[38;5;241;43m.\u001b[39;49m\u001b[43mmodel_path_or_name\u001b[49m\u001b[43m)\u001b[49m\n\u001b[1;32m    150\u001b[0m \u001b[38;5;28;01mexcept\u001b[39;00m:\n",
      "File \u001b[0;32m~/INSTALLS/fudge/transformers/src/transformers/models/auto/tokenization_auto.py:529\u001b[0m, in \u001b[0;36mAutoTokenizer.from_pretrained\u001b[0;34m(cls, pretrained_model_name_or_path, *inputs, **kwargs)\u001b[0m\n\u001b[1;32m    526\u001b[0m         \u001b[38;5;28;01mraise\u001b[39;00m \u001b[38;5;167;01mValueError\u001b[39;00m(\n\u001b[1;32m    527\u001b[0m             \u001b[38;5;124mf\u001b[39m\u001b[38;5;124m\"\u001b[39m\u001b[38;5;124mTokenizer class \u001b[39m\u001b[38;5;132;01m{\u001b[39;00mtokenizer_class_candidate\u001b[38;5;132;01m}\u001b[39;00m\u001b[38;5;124m does not exist or is not currently imported.\u001b[39m\u001b[38;5;124m\"\u001b[39m\n\u001b[1;32m    528\u001b[0m         )\n\u001b[0;32m--> 529\u001b[0m     \u001b[38;5;28;01mreturn\u001b[39;00m \u001b[43mtokenizer_class\u001b[49m\u001b[38;5;241;43m.\u001b[39;49m\u001b[43mfrom_pretrained\u001b[49m\u001b[43m(\u001b[49m\u001b[43mpretrained_model_name_or_path\u001b[49m\u001b[43m,\u001b[49m\u001b[43m \u001b[49m\u001b[38;5;241;43m*\u001b[39;49m\u001b[43minputs\u001b[49m\u001b[43m,\u001b[49m\u001b[43m \u001b[49m\u001b[38;5;241;43m*\u001b[39;49m\u001b[38;5;241;43m*\u001b[39;49m\u001b[43mkwargs\u001b[49m\u001b[43m)\u001b[49m\n\u001b[1;32m    531\u001b[0m \u001b[38;5;66;03m# Otherwise we have to be creative.\u001b[39;00m\n\u001b[1;32m    532\u001b[0m \u001b[38;5;66;03m# if model is an encoder decoder, the encoder tokenizer class is used by default\u001b[39;00m\n",
      "File \u001b[0;32m~/INSTALLS/fudge/transformers/src/transformers/tokenization_utils_base.py:1788\u001b[0m, in \u001b[0;36mPreTrainedTokenizerBase.from_pretrained\u001b[0;34m(cls, pretrained_model_name_or_path, *init_inputs, **kwargs)\u001b[0m\n\u001b[1;32m   1786\u001b[0m         logger\u001b[38;5;241m.\u001b[39minfo(\u001b[38;5;124mf\u001b[39m\u001b[38;5;124m\"\u001b[39m\u001b[38;5;124mloading file \u001b[39m\u001b[38;5;132;01m{\u001b[39;00mfile_path\u001b[38;5;132;01m}\u001b[39;00m\u001b[38;5;124m from cache at \u001b[39m\u001b[38;5;132;01m{\u001b[39;00mresolved_vocab_files[file_id]\u001b[38;5;132;01m}\u001b[39;00m\u001b[38;5;124m\"\u001b[39m)\n\u001b[0;32m-> 1788\u001b[0m \u001b[38;5;28;01mreturn\u001b[39;00m \u001b[38;5;28;43mcls\u001b[39;49m\u001b[38;5;241;43m.\u001b[39;49m\u001b[43m_from_pretrained\u001b[49m\u001b[43m(\u001b[49m\n\u001b[1;32m   1789\u001b[0m \u001b[43m    \u001b[49m\u001b[43mresolved_vocab_files\u001b[49m\u001b[43m,\u001b[49m\n\u001b[1;32m   1790\u001b[0m \u001b[43m    \u001b[49m\u001b[43mpretrained_model_name_or_path\u001b[49m\u001b[43m,\u001b[49m\n\u001b[1;32m   1791\u001b[0m \u001b[43m    \u001b[49m\u001b[43minit_configuration\u001b[49m\u001b[43m,\u001b[49m\n\u001b[1;32m   1792\u001b[0m \u001b[43m    \u001b[49m\u001b[38;5;241;43m*\u001b[39;49m\u001b[43minit_inputs\u001b[49m\u001b[43m,\u001b[49m\n\u001b[1;32m   1793\u001b[0m \u001b[43m    \u001b[49m\u001b[43muse_auth_token\u001b[49m\u001b[38;5;241;43m=\u001b[39;49m\u001b[43muse_auth_token\u001b[49m\u001b[43m,\u001b[49m\n\u001b[1;32m   1794\u001b[0m \u001b[43m    \u001b[49m\u001b[43mcache_dir\u001b[49m\u001b[38;5;241;43m=\u001b[39;49m\u001b[43mcache_dir\u001b[49m\u001b[43m,\u001b[49m\n\u001b[1;32m   1795\u001b[0m \u001b[43m    \u001b[49m\u001b[38;5;241;43m*\u001b[39;49m\u001b[38;5;241;43m*\u001b[39;49m\u001b[43mkwargs\u001b[49m\u001b[43m,\u001b[49m\n\u001b[1;32m   1796\u001b[0m \u001b[43m\u001b[49m\u001b[43m)\u001b[49m\n",
      "File \u001b[0;32m~/INSTALLS/fudge/transformers/src/transformers/tokenization_utils_base.py:1923\u001b[0m, in \u001b[0;36mPreTrainedTokenizerBase._from_pretrained\u001b[0;34m(cls, resolved_vocab_files, pretrained_model_name_or_path, init_configuration, use_auth_token, cache_dir, *init_inputs, **kwargs)\u001b[0m\n\u001b[1;32m   1922\u001b[0m \u001b[38;5;28;01mtry\u001b[39;00m:\n\u001b[0;32m-> 1923\u001b[0m     tokenizer \u001b[38;5;241m=\u001b[39m \u001b[38;5;28;43mcls\u001b[39;49m\u001b[43m(\u001b[49m\u001b[38;5;241;43m*\u001b[39;49m\u001b[43minit_inputs\u001b[49m\u001b[43m,\u001b[49m\u001b[43m \u001b[49m\u001b[38;5;241;43m*\u001b[39;49m\u001b[38;5;241;43m*\u001b[39;49m\u001b[43minit_kwargs\u001b[49m\u001b[43m)\u001b[49m\n\u001b[1;32m   1924\u001b[0m \u001b[38;5;28;01mexcept\u001b[39;00m \u001b[38;5;167;01mOSError\u001b[39;00m:\n",
      "File \u001b[0;32m~/INSTALLS/fudge/transformers/src/transformers/models/bart/tokenization_bart_fast.py:171\u001b[0m, in \u001b[0;36mBartTokenizerFast.__init__\u001b[0;34m(self, vocab_file, merges_file, tokenizer_file, errors, bos_token, eos_token, sep_token, cls_token, unk_token, pad_token, mask_token, add_prefix_space, trim_offsets, **kwargs)\u001b[0m\n\u001b[1;32m    154\u001b[0m \u001b[38;5;28;01mdef\u001b[39;00m \u001b[38;5;21m__init__\u001b[39m(\n\u001b[1;32m    155\u001b[0m     \u001b[38;5;28mself\u001b[39m,\n\u001b[1;32m    156\u001b[0m     vocab_file\u001b[38;5;241m=\u001b[39m\u001b[38;5;28;01mNone\u001b[39;00m,\n\u001b[0;32m   (...)\u001b[0m\n\u001b[1;32m    169\u001b[0m     \u001b[38;5;241m*\u001b[39m\u001b[38;5;241m*\u001b[39mkwargs\n\u001b[1;32m    170\u001b[0m ):\n\u001b[0;32m--> 171\u001b[0m     \u001b[38;5;28;43msuper\u001b[39;49m\u001b[43m(\u001b[49m\u001b[43m)\u001b[49m\u001b[38;5;241;43m.\u001b[39;49m\u001b[38;5;21;43m__init__\u001b[39;49m\u001b[43m(\u001b[49m\n\u001b[1;32m    172\u001b[0m \u001b[43m        \u001b[49m\u001b[43mvocab_file\u001b[49m\u001b[43m,\u001b[49m\n\u001b[1;32m    173\u001b[0m \u001b[43m        \u001b[49m\u001b[43mmerges_file\u001b[49m\u001b[43m,\u001b[49m\n\u001b[1;32m    174\u001b[0m \u001b[43m        \u001b[49m\u001b[43mtokenizer_file\u001b[49m\u001b[38;5;241;43m=\u001b[39;49m\u001b[43mtokenizer_file\u001b[49m\u001b[43m,\u001b[49m\n\u001b[1;32m    175\u001b[0m \u001b[43m        \u001b[49m\u001b[43merrors\u001b[49m\u001b[38;5;241;43m=\u001b[39;49m\u001b[43merrors\u001b[49m\u001b[43m,\u001b[49m\n\u001b[1;32m    176\u001b[0m \u001b[43m        \u001b[49m\u001b[43mbos_token\u001b[49m\u001b[38;5;241;43m=\u001b[39;49m\u001b[43mbos_token\u001b[49m\u001b[43m,\u001b[49m\n\u001b[1;32m    177\u001b[0m \u001b[43m        \u001b[49m\u001b[43meos_token\u001b[49m\u001b[38;5;241;43m=\u001b[39;49m\u001b[43meos_token\u001b[49m\u001b[43m,\u001b[49m\n\u001b[1;32m    178\u001b[0m \u001b[43m        \u001b[49m\u001b[43msep_token\u001b[49m\u001b[38;5;241;43m=\u001b[39;49m\u001b[43msep_token\u001b[49m\u001b[43m,\u001b[49m\n\u001b[1;32m    179\u001b[0m \u001b[43m        \u001b[49m\u001b[43mcls_token\u001b[49m\u001b[38;5;241;43m=\u001b[39;49m\u001b[43mcls_token\u001b[49m\u001b[43m,\u001b[49m\n\u001b[1;32m    180\u001b[0m \u001b[43m        \u001b[49m\u001b[43munk_token\u001b[49m\u001b[38;5;241;43m=\u001b[39;49m\u001b[43munk_token\u001b[49m\u001b[43m,\u001b[49m\n\u001b[1;32m    181\u001b[0m \u001b[43m        \u001b[49m\u001b[43mpad_token\u001b[49m\u001b[38;5;241;43m=\u001b[39;49m\u001b[43mpad_token\u001b[49m\u001b[43m,\u001b[49m\n\u001b[1;32m    182\u001b[0m \u001b[43m        \u001b[49m\u001b[43mmask_token\u001b[49m\u001b[38;5;241;43m=\u001b[39;49m\u001b[43mmask_token\u001b[49m\u001b[43m,\u001b[49m\n\u001b[1;32m    183\u001b[0m \u001b[43m        \u001b[49m\u001b[43madd_prefix_space\u001b[49m\u001b[38;5;241;43m=\u001b[39;49m\u001b[43madd_prefix_space\u001b[49m\u001b[43m,\u001b[49m\n\u001b[1;32m    184\u001b[0m \u001b[43m        \u001b[49m\u001b[43mtrim_offsets\u001b[49m\u001b[38;5;241;43m=\u001b[39;49m\u001b[43mtrim_offsets\u001b[49m\u001b[43m,\u001b[49m\n\u001b[1;32m    185\u001b[0m \u001b[43m        \u001b[49m\u001b[38;5;241;43m*\u001b[39;49m\u001b[38;5;241;43m*\u001b[39;49m\u001b[43mkwargs\u001b[49m\u001b[43m,\u001b[49m\n\u001b[1;32m    186\u001b[0m \u001b[43m    \u001b[49m\u001b[43m)\u001b[49m\n\u001b[1;32m    188\u001b[0m     pre_tok_state \u001b[38;5;241m=\u001b[39m json\u001b[38;5;241m.\u001b[39mloads(\u001b[38;5;28mself\u001b[39m\u001b[38;5;241m.\u001b[39mbackend_tokenizer\u001b[38;5;241m.\u001b[39mpre_tokenizer\u001b[38;5;241m.\u001b[39m__getstate__())\n",
      "File \u001b[0;32m~/INSTALLS/fudge/transformers/src/transformers/tokenization_utils_fast.py:110\u001b[0m, in \u001b[0;36mPreTrainedTokenizerFast.__init__\u001b[0;34m(self, *args, **kwargs)\u001b[0m\n\u001b[1;32m    108\u001b[0m \u001b[38;5;28;01melif\u001b[39;00m fast_tokenizer_file \u001b[38;5;129;01mis\u001b[39;00m \u001b[38;5;129;01mnot\u001b[39;00m \u001b[38;5;28;01mNone\u001b[39;00m \u001b[38;5;129;01mand\u001b[39;00m \u001b[38;5;129;01mnot\u001b[39;00m from_slow:\n\u001b[1;32m    109\u001b[0m     \u001b[38;5;66;03m# We have a serialization from tokenizers which let us directly build the backend\u001b[39;00m\n\u001b[0;32m--> 110\u001b[0m     fast_tokenizer \u001b[38;5;241m=\u001b[39m \u001b[43mTokenizerFast\u001b[49m\u001b[38;5;241;43m.\u001b[39;49m\u001b[43mfrom_file\u001b[49m\u001b[43m(\u001b[49m\u001b[43mfast_tokenizer_file\u001b[49m\u001b[43m)\u001b[49m\n\u001b[1;32m    111\u001b[0m \u001b[38;5;28;01melif\u001b[39;00m slow_tokenizer \u001b[38;5;129;01mis\u001b[39;00m \u001b[38;5;129;01mnot\u001b[39;00m \u001b[38;5;28;01mNone\u001b[39;00m:\n\u001b[1;32m    112\u001b[0m     \u001b[38;5;66;03m# We need to convert a slow tokenizer to build the backend\u001b[39;00m\n",
      "\u001b[0;31mException\u001b[0m: No such file or directory (os error 2)",
      "\nDuring handling of the above exception, another exception occurred:\n",
      "\u001b[0;31mRuntimeError\u001b[0m                              Traceback (most recent call last)",
      "Input \u001b[0;32mIn [8]\u001b[0m, in \u001b[0;36m<module>\u001b[0;34m\u001b[0m\n\u001b[0;32m----> 1\u001b[0m dataset \u001b[38;5;241m=\u001b[39m \u001b[43mDataset\u001b[49m\u001b[43m(\u001b[49m\u001b[43margs\u001b[49m\u001b[43m)\u001b[49m\n",
      "File \u001b[0;32m~/INSTALLS/fudge/data.py:155\u001b[0m, in \u001b[0;36mDataset.__init__\u001b[0;34m(self, args)\u001b[0m\n\u001b[1;32m    153\u001b[0m     tokenizer_name \u001b[38;5;241m=\u001b[39m FORMALITY_MODEL_STRING\n\u001b[1;32m    154\u001b[0m \u001b[38;5;28;01melif\u001b[39;00m \u001b[38;5;28mself\u001b[39m\u001b[38;5;241m.\u001b[39msimplify:\n\u001b[0;32m--> 155\u001b[0m     \u001b[38;5;28;01mraise\u001b[39;00m \u001b[38;5;167;01mRuntimeError\u001b[39;00m\n\u001b[1;32m    156\u001b[0m \u001b[38;5;28;01melse\u001b[39;00m:\n\u001b[1;32m    157\u001b[0m     tokenizer_name \u001b[38;5;241m=\u001b[39m TOPIC_MODEL_STRING\n",
      "\u001b[0;31mRuntimeError\u001b[0m: "
     ]
    }
   ],
   "source": [
    "dataset = Dataset(args)"
   ]
  },
  {
   "cell_type": "code",
   "execution_count": 35,
   "id": "1c362586",
   "metadata": {},
   "outputs": [],
   "source": [
    "tokenizer = AutoTokenizer.from_pretrained(args.model_path_or_name)"
   ]
  },
  {
   "cell_type": "code",
   "execution_count": 36,
   "id": "379263ba",
   "metadata": {},
   "outputs": [
    {
     "name": "stdout",
     "output_type": "stream",
     "text": [
      "tensor(0.2893)\n",
      "Namespace(batch_size=32, ckpt=None, data_dir='/srv/scratch6/kew/ats/data/en/newsela_article_corpus_2016-01-29/article_sents', dataset_info=None, debug=False, device='cuda', epoch_max_len=None, epochs=10, evaluate=False, glove='glove-wiki-gigaword-300', lr=0.0001, model_path_or_name='/srv/scratch6/kew/ats/fudge/generators/bart_large_paraNMT_filt_fr', num_workers=12, rhyme_info=None, save_dir='/srv/scratch6/kew/ats/fudge/discriminators/newsela4_bart_glove', seed=1, task='simplify', tgt_level=4, train_print_freq=1000000, validation_freq=1, wandb='simple_fudge')\n"
     ]
    }
   ],
   "source": [
    "checkpoint = torch.load(args.ckpt, map_location=args.device)\n",
    "best_val_metric = checkpoint['best_metric']\n",
    "model_args = checkpoint['args']\n",
    "print(best_val_metric)\n",
    "print(model_args)"
   ]
  },
  {
   "cell_type": "code",
   "execution_count": 37,
   "id": "da389c22",
   "metadata": {},
   "outputs": [
    {
     "data": {
      "text/plain": [
       "Model(\n",
       "  (bart_embed): Embedding(50265, 300, padding_idx=1)\n",
       "  (rnn): LSTM(300, 512, num_layers=3, dropout=0.1)\n",
       "  (out_linear): Linear(in_features=512, out_features=1, bias=True)\n",
       ")"
      ]
     },
     "execution_count": 37,
     "metadata": {},
     "output_type": "execute_result"
    }
   ],
   "source": [
    "model = Model(\n",
    "    model_args, \n",
    "    tokenizer.pad_token_id, \n",
    "    tokenizer.vocab_size,\n",
    "    None\n",
    "    ) # no need to get the glove embeddings when reloading since they're saved in model ckpt anyway\n",
    "\n",
    "model.load_state_dict(checkpoint['state_dict'])\n",
    "model = model.to(args.device)\n",
    "model.eval()\n",
    "# optimizer = torch.optim.Adam(model.parameters(), lr=model_args.lr)\n",
    "# optimizer.load_state_dict(checkpoint['optimizer'])\n",
    "# data_start_index = checkpoint['data_start_index']\n",
    "# print(\"=> loaded checkpoint '{}' (epoch {})\"\n",
    "#     .format(args.ckpt, checkpoint['epoch']))\n"
   ]
  },
  {
   "cell_type": "code",
   "execution_count": 38,
   "id": "167acfc8",
   "metadata": {},
   "outputs": [
    {
     "name": "stdout",
     "output_type": "stream",
     "text": [
      "<torch.utils.data.dataloader.DataLoader object at 0x7faa6ed05e50>\n"
     ]
    }
   ],
   "source": [
    "loader = dataset.loader('val', num_workers=0)\n",
    "print(loader)"
   ]
  },
  {
   "cell_type": "code",
   "execution_count": 39,
   "id": "206cf496",
   "metadata": {},
   "outputs": [
    {
     "name": "stdout",
     "output_type": "stream",
     "text": [
      "['SPECIAL_TOKENS_ATTRIBUTES', '__annotations__', '__call__', '__class__', '__delattr__', '__dict__', '__dir__', '__doc__', '__eq__', '__format__', '__ge__', '__getattribute__', '__gt__', '__hash__', '__init__', '__init_subclass__', '__le__', '__len__', '__lt__', '__module__', '__ne__', '__new__', '__reduce__', '__reduce_ex__', '__repr__', '__setattr__', '__sizeof__', '__str__', '__subclasshook__', '__weakref__', '_add_tokens', '_additional_special_tokens', '_batch_encode_plus', '_bos_token', '_build_conversation_input_ids', '_cls_token', '_convert_encoding', '_convert_id_to_token', '_convert_token_to_id_with_added_voc', '_create_or_get_repo', '_decode', '_decode_use_source_tokenizer', '_encode_plus', '_eos_token', '_eventual_warn_about_too_long_sequence', '_from_pretrained', '_get_padding_truncation_strategies', '_get_repo_url_from_name', '_mask_token', '_pad', '_pad_token', '_pad_token_type_id', '_processor_class', '_push_to_hub', '_save_pretrained', '_sep_token', '_set_processor_class', '_tokenizer', '_unk_token', 'add_prefix_space', 'add_special_tokens', 'add_tokens', 'additional_special_tokens', 'additional_special_tokens_ids', 'all_special_ids', 'all_special_tokens', 'all_special_tokens_extended', 'as_target_tokenizer', 'backend_tokenizer', 'batch_decode', 'batch_encode_plus', 'bos_token', 'bos_token_id', 'build_inputs_with_special_tokens', 'can_save_slow_tokenizer', 'clean_up_tokenization', 'cls_token', 'cls_token_id', 'convert_ids_to_tokens', 'convert_tokens_to_ids', 'convert_tokens_to_string', 'create_token_type_ids_from_sequences', 'decode', 'decoder', 'deprecation_warnings', 'encode', 'encode_plus', 'eos_token', 'eos_token_id', 'from_pretrained', 'get_added_vocab', 'get_special_tokens_mask', 'get_vocab', 'init_inputs', 'init_kwargs', 'is_fast', 'mask_token', 'mask_token_id', 'max_len_sentences_pair', 'max_len_single_sentence', 'max_model_input_sizes', 'model_input_names', 'model_max_length', 'name_or_path', 'num_special_tokens_to_add', 'pad', 'pad_token', 'pad_token_id', 'pad_token_type_id', 'padding_side', 'prepare_for_model', 'prepare_seq2seq_batch', 'pretrained_init_configuration', 'pretrained_vocab_files_map', 'push_to_hub', 'sanitize_special_tokens', 'save_pretrained', 'save_vocabulary', 'sep_token', 'sep_token_id', 'set_truncation_and_padding', 'slow_tokenizer_class', 'special_tokens_map', 'special_tokens_map_extended', 'tokenize', 'train_new_from_iterator', 'truncate_sequences', 'truncation_side', 'unk_token', 'unk_token_id', 'verbose', 'vocab', 'vocab_files_names', 'vocab_size']\n"
     ]
    }
   ],
   "source": [
    "print(dir(tokenizer))"
   ]
  },
  {
   "cell_type": "code",
   "execution_count": 40,
   "id": "f71b8aed",
   "metadata": {},
   "outputs": [
    {
     "name": "stdout",
     "output_type": "stream",
     "text": [
      "*** input ***\n",
      "['They', 'Ġdo', 'Ġnot', 'Ġtalk', 'Ġabout', 'Ġtheir', 'Ġexperiences', '.']\n",
      "(tensor([[1213,  109,   45, 1067,   59,   49, 3734,    4]]), tensor([8]), tensor([[0]]), tensor([0.]), tensor([[1]]), tensor([1]), tensor([-1]), tensor([-1]), tensor([-1]))\n",
      "\n",
      "8\n",
      "*** input ***\n",
      "['Their', 'Ġexperiences', 'Ġare', 'Ġrendered', 'Ġinvisible', 'Ġin', 'Ġmany', 'Ġways', '.']\n",
      "(tensor([[16837,  3734,    32, 18728, 20731,    11,   171,  1319,     4]]), tensor([9]), tensor([[0]]), tensor([0.]), tensor([[1]]), tensor([0]), tensor([-1]), tensor([-1]), tensor([-1]))\n",
      "\n",
      "9\n",
      "*** input ***\n",
      "['They', 'Ġdo', 'Ġnot', 'Ġdiscuss', 'Ġtheir', 'Ġexperiences', 'Ġfor', 'Ġthey', 'Ġbe', 'que', 'ath', 'Ġthese', 'Ġunto', 'Ġothers']\n",
      "(tensor([[ 1213,   109,    45,  2268,    49,  3734,    13,    51,    28,  3407,\n",
      "          2681,   209, 35484,   643]]), tensor([14]), tensor([[0]]), tensor([0.]), tensor([[1]]), tensor([1]), tensor([-1]), tensor([-1]), tensor([-1]))\n",
      "\n",
      "14\n",
      "<class 'numpy.ndarray'> (31,)\n"
     ]
    }
   ],
   "source": [
    "criterion = torch.nn.BCEWithLogitsLoss().to(args.device)\n",
    "\n",
    "    \n",
    "def prepare(sent, label):\n",
    "    orig_sent = sent.split()\n",
    "#     print(tokenizer.encode(sent, add_special_tokens=False, return_token_type_ids=False))\n",
    "    toks = tokenizer.encode(sent, add_special_tokens=False, return_tensors=\"pt\")[0]\n",
    "    print('*** input ***')\n",
    "    print(tokenizer.convert_ids_to_tokens(toks))\n",
    "    word_log_prob = 0\n",
    "    future_word = 0\n",
    "    future_word_num_syllables, rhyme_group_index, syllables_to_go = -1, -1, -1 # not required for simplify\n",
    "\n",
    "    pad_id = tokenizer.pad_token_id\n",
    "\n",
    "    example = (\n",
    "        toks, \n",
    "        len(toks), \n",
    "        future_word, \n",
    "        word_log_prob, \n",
    "        pad_id, \n",
    "        label, \n",
    "        syllables_to_go, \n",
    "        future_word_num_syllables, \n",
    "        rhyme_group_index)\n",
    "\n",
    "    batch = collate([example])\n",
    "    print(batch)\n",
    "    print()\n",
    "    \n",
    "    return batch\n",
    "    \n",
    "def score(batch, verbose=False):\n",
    "#     print('*** preds ***')\n",
    "    scores = model(batch[0], lengths=batch[1])\n",
    "    if verbose:\n",
    "        print('MODEL SCORES:', scores.tolist())\n",
    "    \n",
    "    expanded_labels = batch[5].unsqueeze(1).expand(-1, scores.shape[1]) # batch x seq\n",
    "    if verbose:\n",
    "        print('TRUE LABELS:', expanded_labels.tolist())\n",
    "    length_mask = pad_mask(batch[1]).permute(1, 0) # batch x seq\n",
    "    loss = criterion(scores.flatten()[length_mask.flatten()==1], expanded_labels.flatten().float()[length_mask.flatten()==1])\n",
    "    if verbose:\n",
    "        print('MODEL LOSS:', loss.tolist())\n",
    "    acc = ((scores.flatten()[length_mask.flatten()==1] > 0.0) == expanded_labels.flatten().float()[length_mask.flatten()==1]).float().mean()\n",
    "    if verbose:\n",
    "        print('PRED ACC (0.0 Threshold):', acc.tolist())\n",
    "\n",
    "    #####\n",
    "    neg_scores = -torch.ones_like(scores)\n",
    "    if verbose:\n",
    "        print('NEG PRED LOSS:', criterion(neg_scores.flatten()[length_mask.flatten()==1], expanded_labels.flatten().float()[length_mask.flatten()==1]).tolist())\n",
    "        print('NEG PRED ACC:', ((neg_scores.flatten()[length_mask.flatten()==1] > 0.0) == expanded_labels.flatten().float()[length_mask.flatten()==1]).float().mean().tolist())\n",
    "\n",
    "    pos_scores = torch.ones_like(scores)\n",
    "    if verbose:\n",
    "        print('POS PRED LOSS:', criterion(pos_scores.flatten()[length_mask.flatten()==1], expanded_labels.flatten().float()[length_mask.flatten()==1]).tolist())\n",
    "        print('POS PRED LOSS:', ((pos_scores.flatten()[length_mask.flatten()==1] > 0.0) == expanded_labels.flatten().float()[length_mask.flatten()==1]).float().mean().tolist())\n",
    "        print()\n",
    "    \n",
    "    return scores.flatten()[length_mask.flatten()==1].detach().numpy(), expanded_labels.flatten().float()[length_mask.flatten()==1].detach().numpy()\n",
    "\n",
    "\n",
    "examples = [\n",
    "    (\"They do not talk about their experiences.\", 1),\n",
    "    (\"Their experiences are rendered invisible in many ways.\", 0),\n",
    "    (\"They do not discuss their experiences for they bequeath these unto others\", 1)\n",
    "]\n",
    "\n",
    "y_hats, y_labels = [], []\n",
    "\n",
    "for ex in examples:\n",
    "    y_hat, y_label = score(prepare(*ex))\n",
    "    print(len(y_hat))\n",
    "    y_hats.append(y_hat)\n",
    "    y_labels.append(y_label)\n",
    "\n",
    "y_hats = np.concatenate(y_hats, 0)\n",
    "y_labels = np.concatenate(y_labels, 0)\n",
    "\n",
    "print(type(y_hats), y_hats.shape)\n",
    "    \n",
    "    "
   ]
  },
  {
   "cell_type": "code",
   "execution_count": 41,
   "id": "6be3c06a",
   "metadata": {},
   "outputs": [
    {
     "name": "stdout",
     "output_type": "stream",
     "text": [
      "PREDS: [ 1.431324    1.910438    2.3197818   2.965285    3.5932567   3.7109907\n",
      "  2.2263787   3.62415     0.53097105 -1.381372   -0.9232385  -2.0472946\n",
      " -2.1793625  -2.1939795  -1.6916423  -1.5395573   0.16220388  1.431324\n",
      "  1.910438    2.3197818   1.6932781   1.8099053   0.07254209  0.05305551\n",
      "  0.7220439   0.44065052 -0.5783366  -0.38060907 -0.37211993 -1.3514063\n",
      " -1.60099   ]\n",
      "FPR: [0.         0.         0.         0.         0.         0.\n",
      " 0.         0.         0.         0.11111111 0.11111111 0.22222222\n",
      " 0.22222222 0.33333333 0.33333333 0.55555556 0.55555556 1.        ] TPR: [0.         0.04545455 0.18181818 0.27272727 0.31818182 0.40909091\n",
      " 0.5        0.59090909 0.63636364 0.63636364 0.68181818 0.68181818\n",
      " 0.90909091 0.90909091 0.95454545 0.95454545 1.         1.        ] THRESHOLDS: [ 4.710991    3.7109907   2.965285    2.3197818   2.2263787   1.910438\n",
      "  1.6932781   1.431324    0.7220439   0.53097105  0.44065052  0.16220388\n",
      " -0.5783366  -0.9232385  -1.3514063  -1.5395573  -1.60099    -2.1939795 ]\n",
      "RANDOM PREDS: [ 2.3197818  -0.5783366   0.44065052  3.5932567  -1.60099     2.3197818\n",
      " -2.0472946   0.53097105 -1.3514063   2.965285   -0.37211993  0.7220439\n",
      "  2.2263787  -0.38060907  3.62415    -0.9232385   1.910438    1.910438\n",
      " -2.1793625   0.07254209 -1.5395573  -1.381372    1.431324   -2.1939795\n",
      " -1.6916423   1.431324    1.6932781   0.16220388  3.7109907   0.05305551\n",
      "  1.8099053 ]\n",
      "[0.         0.04545455 0.04545455 0.09090909 0.09090909 0.18181818\n",
      " 0.18181818 0.22727273 0.31818182 0.40909091 0.40909091 0.63636364\n",
      " 0.63636364 0.68181818 0.68181818 1.        ] [0.         0.         0.11111111 0.11111111 0.22222222 0.22222222\n",
      " 0.33333333 0.44444444 0.44444444 0.44444444 0.55555556 0.55555556\n",
      " 0.77777778 0.77777778 1.         1.        ]\n",
      "0.904040404040404 0.39646464646464646\n"
     ]
    }
   ],
   "source": [
    "# https://www.analyticsvidhya.com/blog/2020/06/auc-roc-curve-machine-learning/\n",
    "# roc curve for models\n",
    "\n",
    "print('PREDS:', y_hats)\n",
    "fpr1, tpr1, thresh1 = roc_curve(y_labels, y_hats, pos_label=1)\n",
    "print('FPR:', fpr1, 'TPR:', tpr1, 'THRESHOLDS:', thresh1)\n",
    "# fpr2, tpr2, thresh2 = roc_curve(y_label, y_hat, pos_label=1)\n",
    "\n",
    "# roc curve for tpr = fpr \n",
    "# random_probs = [0 for i in range(len(y_labels))]\n",
    "random_probs = np.random.permutation(y_hats)\n",
    "print('RANDOM PREDS:', random_probs)\n",
    "p_fpr, p_tpr, _ = roc_curve(y_labels, random_probs, pos_label=0)\n",
    "print(p_fpr, p_tpr)\n",
    "\n",
    "# auc scores\n",
    "auc_score1 = roc_auc_score(y_labels, y_hats)\n",
    "auc_score2 = roc_auc_score(y_labels, random_probs)\n",
    "print(auc_score1, auc_score2)"
   ]
  },
  {
   "cell_type": "code",
   "execution_count": 42,
   "id": "d8a1bc24",
   "metadata": {},
   "outputs": [
    {
     "data": {
      "text/plain": [
       "<matplotlib.legend.Legend at 0x7faa9c3c50d0>"
      ]
     },
     "execution_count": 42,
     "metadata": {},
     "output_type": "execute_result"
    },
    {
     "data": {
      "image/png": "[encoded data removed]",
      "text/plain": [
       "<Figure size 576x396 with 1 Axes>"
      ]
     },
     "metadata": {},
     "output_type": "display_data"
    }
   ],
   "source": [
    "# matplotlib\n",
    "import matplotlib.pyplot as plt\n",
    "plt.style.use('seaborn')\n",
    "\n",
    "# plot roc curves\n",
    "plt.plot(fpr1, tpr1, linestyle='--',color='orange', label='M1')\n",
    "plt.plot(p_fpr, p_tpr, linestyle='--', color='blue', label='random perm.')\n",
    "# title\n",
    "plt.title('ROC curve')\n",
    "# x label\n",
    "plt.xlabel('False Positive Rate')\n",
    "# y label\n",
    "plt.ylabel('True Positive rate')\n",
    "\n",
    "plt.legend(loc='best')\n",
    "# plt.savefig('ROC',dpi=300)\n",
    "# plt.show();"
   ]
  },
  {
   "cell_type": "code",
   "execution_count": 43,
   "id": "5e865079",
   "metadata": {},
   "outputs": [
    {
     "data": {
      "application/vnd.jupyter.widget-view+json": {
       "model_id": "53e54b4e6ad8456ea94bf549db795644",
       "version_major": 2,
       "version_minor": 0
      },
      "text/plain": [
       "0it [00:00, ?it/s]"
      ]
     },
     "metadata": {},
     "output_type": "display_data"
    },
    {
     "name": "stdout",
     "output_type": "stream",
     "text": [
      "(8100,)\n",
      "(8100,)\n"
     ]
    }
   ],
   "source": [
    "y_hats, y_labels = [], []\n",
    "\n",
    "for i, item in tqdm(enumerate(loader)):\n",
    "    y_hat, y_label = score(item, verbose=False)\n",
    "    y_hats.append(y_hat)\n",
    "    y_labels.append(y_label)\n",
    "\n",
    "y_hats = np.concatenate(y_hats, 0)\n",
    "y_labels = np.concatenate(y_labels, 0)\n",
    "\n",
    "print(y_hats.shape)\n",
    "print(y_labels.shape)"
   ]
  },
  {
   "cell_type": "code",
   "execution_count": 44,
   "id": "4f72846b",
   "metadata": {},
   "outputs": [
    {
     "name": "stdout",
     "output_type": "stream",
     "text": [
      "[ 0.14683615 -0.16596049  0.5723674   0.66562784  0.8230142   1.2776796\n",
      "  1.3887539   1.1842973   2.0151188   1.554503    2.9044888   0.75910497\n",
      "  0.93049324  0.97752917  1.6427394   1.0282954   1.0893372   0.9374846\n",
      "  1.5118687   1.5039088 ]\n",
      "[1. 1. 1. 1. 1. 1. 1. 1. 1. 1. 1. 0. 0. 0. 0. 0. 0. 0. 0. 0.]\n"
     ]
    }
   ],
   "source": [
    "print(y_hats[:20])\n",
    "print(y_labels[:20])"
   ]
  },
  {
   "cell_type": "code",
   "execution_count": 45,
   "id": "f9be9f81",
   "metadata": {},
   "outputs": [
    {
     "name": "stdout",
     "output_type": "stream",
     "text": [
      "PREDS: [ 0.14683615 -0.16596049  0.5723674  ...  1.771215    1.6943967\n",
      "  3.5092232 ]\n",
      "FPR: [0.         0.         0.         ... 0.63474621 0.63474621 1.        ] TPR: [0.00000000e+00 4.22475708e-04 6.63286861e-02 ... 9.99577524e-01\n",
      " 1.00000000e+00 1.00000000e+00] THRESHOLDS: [  7.438606    6.438606    4.029421  ...  -5.2227206  -5.2240343\n",
      " -10.268526 ]\n",
      "0.9365280175528228\n"
     ]
    }
   ],
   "source": [
    "print('PREDS:', y_hats)\n",
    "fpr1, tpr1, thresh1 = roc_curve(y_labels, y_hats, pos_label=1)\n",
    "print('FPR:', fpr1, 'TPR:', tpr1, 'THRESHOLDS:', thresh1)\n",
    "# fpr2, tpr2, thresh2 = roc_curve(y_label, y_hat, pos_label=1)\n",
    "\n",
    "# roc curve for tpr = fpr \n",
    "# random_probs = [0 for i in range(len(y_labels))]\n",
    "# random_probs = np.random.permutation(y_hats)\n",
    "# print('RANDOM PREDS:', random_probs)\n",
    "# p_fpr, p_tpr, _ = roc_curve(y_labels, random_probs, pos_label=0)\n",
    "# print(p_fpr, p_tpr)\n",
    "\n",
    "# auc scores\n",
    "auc_score1 = roc_auc_score(y_labels, y_hats)\n",
    "# auc_score2 = roc_auc_score(y_labels, random_probs)\n",
    "print(auc_score1)\n",
    "# print(auc_score2)"
   ]
  },
  {
   "cell_type": "code",
   "execution_count": 46,
   "id": "9de1782c",
   "metadata": {},
   "outputs": [
    {
     "name": "stdout",
     "output_type": "stream",
     "text": [
      "(1499,) (1499,) (1499,)\n"
     ]
    }
   ],
   "source": [
    "print(fpr1.shape, tpr1.shape, thresh1.shape)\n"
   ]
  },
  {
   "cell_type": "code",
   "execution_count": 47,
   "id": "5525084b",
   "metadata": {},
   "outputs": [
    {
     "data": {
      "text/plain": [
       "<matplotlib.legend.Legend at 0x7faa4cb281c0>"
      ]
     },
     "execution_count": 47,
     "metadata": {},
     "output_type": "execute_result"
    },
    {
     "data": {
      "image/png": "[encoded data removed]",
      "text/plain": [
       "<Figure size 576x396 with 1 Axes>"
      ]
     },
     "metadata": {},
     "output_type": "display_data"
    }
   ],
   "source": [
    "# plot roc curves\n",
    "plt.plot(fpr1, tpr1, linestyle='--',color='orange', label='M1')\n",
    "# plt.plot(fpr2, tpr2, linestyle='--',color='green', label='KNN')\n",
    "# plt.plot(p_fpr, p_tpr, linestyle='--', color='blue')\n",
    "# title\n",
    "plt.title('ROC curve')\n",
    "# x label\n",
    "plt.xlabel('False Positive Rate')\n",
    "# y label\n",
    "plt.ylabel('True Positive rate')\n",
    "\n",
    "plt.legend(loc='best')\n",
    "# plt.savefig('ROC',dpi=300)\n",
    "# plt.show();"
   ]
  },
  {
   "cell_type": "code",
   "execution_count": null,
   "id": "6b79468e",
   "metadata": {},
   "outputs": [],
   "source": []
  }
 ],
 "metadata": {
  "kernelspec": {
   "display_name": "Python 3 (ipykernel)",
   "language": "python",
   "name": "python3"
  },
  "language_info": {
   "codemirror_mode": {
    "name": "ipython",
    "version": 3
   },
   "file_extension": ".py",
   "mimetype": "text/x-python",
   "name": "python",
   "nbconvert_exporter": "python",
   "pygments_lexer": "ipython3",
   "version": "3.8.5"
  }
 },
 "nbformat": 4,
 "nbformat_minor": 5
}
